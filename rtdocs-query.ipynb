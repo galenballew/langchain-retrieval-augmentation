{
 "cells": [
  {
   "cell_type": "code",
   "execution_count": 1,
   "metadata": {},
   "outputs": [],
   "source": [
    "from langchain.vectorstores import Chroma\n",
    "from langchain.embeddings.openai import OpenAIEmbeddings\n",
    "from keys import OPENAI_API_KEY\n",
    "\n",
    "embeddings = OpenAIEmbeddings(openai_api_key=OPENAI_API_KEY)"
   ]
  },
  {
   "cell_type": "code",
   "execution_count": 2,
   "metadata": {},
   "outputs": [
    {
     "name": "stderr",
     "output_type": "stream",
     "text": [
      "Using embedded DuckDB with persistence: data will be stored in: rtdocs-vectordb\n"
     ]
    }
   ],
   "source": [
    "# load from disk and use as normal\n",
    "vectordb = Chroma(persist_directory='rtdocs-vectordb', embedding_function=embeddings)\n",
    "\n",
    "retriever = vectordb.as_retriever(search_type=\"mmr\", search_kwargs={\"k\": 6}) # combine k cosine similar documents and return them to chat context"
   ]
  },
  {
   "cell_type": "code",
   "execution_count": 3,
   "metadata": {},
   "outputs": [],
   "source": [
    "from langchain.chains import RetrievalQA, ConversationalRetrievalChain\n",
    "from langchain.chat_models import ChatOpenAI\n",
    "\n",
    "# create the chain to answer questions \n",
    "# qa_chain = RetrievalQA.from_chain_type(llm=ChatOpenAI(openai_api_key=OPENAI_API_KEY, temperature=0), \n",
    "#                                   chain_type=\"stuff\", \n",
    "#                                   retriever=retriever, \n",
    "#                                   return_source_documents=True)\n",
    "\n",
    "# qa_chain = RetrievalQA.from_llm(llm=ChatOpenAI(openai_api_key=OPENAI_API_KEY, temperature=0), \n",
    "#                                   retriever=retriever)\n",
    "\n",
    "qa_chain = RetrievalQA.from_chain_type(llm=ChatOpenAI(openai_api_key=OPENAI_API_KEY, temperature=0), \n",
    "                                  chain_type=\"map_reduce\", \n",
    "                                  retriever=retriever, \n",
    "                                  return_source_documents=True)\n",
    "\n",
    "# this one is not performing well for whatever reason\n",
    "# convo_chain = ConversationalRetrievalChain.from_llm(llm=ChatOpenAI(openai_api_key=OPENAI_API_KEY, temperature=0), \n",
    "#                                                            retriever=retriever,\n",
    "#                                                            return_source_documents=True)"
   ]
  },
  {
   "cell_type": "code",
   "execution_count": 4,
   "metadata": {},
   "outputs": [
    {
     "data": {
      "text/plain": [
       "\"I'm sorry, I cannot answer that question as there is no information provided in the given portion of the document about classes that can be taken after CSE 311. The text only provides information about a capstone software course and its prerequisites.\""
      ]
     },
     "execution_count": 4,
     "metadata": {},
     "output_type": "execute_result"
    }
   ],
   "source": [
    "result = qa_chain(\"What classes can I take after CSE 311?\")\n",
    "result['result']"
   ]
  },
  {
   "cell_type": "code",
   "execution_count": 5,
   "metadata": {},
   "outputs": [
    {
     "data": {
      "text/plain": [
       "'The text mentions that it covers fundamentals of logic, set theory, induction, and algebraic structures with applications to computing; finite state machines; and limits of computability. The prerequisite for CSE 311 is CSE 143; either MATH 126 or MATH 136.'"
      ]
     },
     "execution_count": 5,
     "metadata": {},
     "output_type": "execute_result"
    }
   ],
   "source": [
    "result = qa_chain(\"What is CSE 311 about?\")\n",
    "result['result']"
   ]
  },
  {
   "cell_type": "code",
   "execution_count": 6,
   "metadata": {},
   "outputs": [
    {
     "data": {
      "text/plain": [
       "\"I'm sorry, there is no information provided about the course description for CSE 546 in the given portion of the document.\""
      ]
     },
     "execution_count": 6,
     "metadata": {},
     "output_type": "execute_result"
    }
   ],
   "source": [
    "result = qa_chain(\"What is the course description for CSE 546?\")\n",
    "result['result']"
   ]
  },
  {
   "cell_type": "code",
   "execution_count": null,
   "metadata": {},
   "outputs": [
    {
     "data": {
      "text/plain": [
       "'There are conflicting answers provided in the given text. One says the course number is CSE 447, another says it is CSE 517, and three others say there is no information provided about the course number for a course named natural language processing. Therefore, it is unclear what the course number is for a course named natural language processing based on the given text.'"
      ]
     },
     "execution_count": 96,
     "metadata": {},
     "output_type": "execute_result"
    }
   ],
   "source": [
    "result = qa_chain(\"What is the course number for a course name natural language processing?\")\n",
    "result['result']"
   ]
  },
  {
   "cell_type": "code",
   "execution_count": null,
   "metadata": {},
   "outputs": [
    {
     "data": {
      "text/plain": [
       "'There is no specific information provided in the given portion of the document about a 300 level Software Design class that can be taken. However, there are several 400-level CSE courses that are recommended to be completed before taking the Capstone Software courses.'"
      ]
     },
     "execution_count": 97,
     "metadata": {},
     "output_type": "execute_result"
    }
   ],
   "source": [
    "\n",
    "result = qa_chain(\"What 300 level Software Design class can I take?\")\n",
    "result['result']"
   ]
  },
  {
   "cell_type": "code",
   "execution_count": null,
   "metadata": {},
   "outputs": [
    {
     "data": {
      "text/plain": [
       "'Yes, there are several courses mentioned in the text about software design, including CSE 331, CSE 490jl, CSE 481, CSE 481a, CSE 481b, CSE 458, CSE 466, and CSEP 503.'"
      ]
     },
     "execution_count": 105,
     "metadata": {},
     "output_type": "execute_result"
    }
   ],
   "source": [
    "result = qa_chain(\"Are there any courses about software design?\")\n",
    "result['result']"
   ]
  },
  {
   "cell_type": "code",
   "execution_count": null,
   "metadata": {},
   "outputs": [
    {
     "data": {
      "text/plain": [
       "'There is no information in the given portion of the document that directly answers this question.'"
      ]
     },
     "execution_count": 106,
     "metadata": {},
     "output_type": "execute_result"
    }
   ],
   "source": [
    "result = qa_chain(\"What class should I take if I want to take CSE 546?\")\n",
    "result['result']"
   ]
  },
  {
   "cell_type": "code",
   "execution_count": null,
   "metadata": {},
   "outputs": [
    {
     "data": {
      "text/plain": [
       "'The prerequisites for CSE 546 are: Either a minimum grade of 2.5 in MATH 098, a minimum grade of 3.0 in MATH 103, a score of 151-169 on the MPT-GS placement test, or score of 145-153 on the MPT-AS placement test.'"
      ]
     },
     "execution_count": 103,
     "metadata": {},
     "output_type": "execute_result"
    }
   ],
   "source": [
    "result = qa_chain(\"What are the prerequisites for CSE 546?\")\n",
    "result['result']"
   ]
  },
  {
   "cell_type": "code",
   "execution_count": null,
   "metadata": {},
   "outputs": [
    {
     "data": {
      "text/plain": [
       "'You can take CSE 352: Hardware Design And Implementation after taking CSE 143 and CSE 351.'"
      ]
     },
     "execution_count": 99,
     "metadata": {},
     "output_type": "execute_result"
    }
   ],
   "source": [
    "result = qa_chain(\"What class can I take after taking CSE 143 and CSE 351?\")\n",
    "result['result']"
   ]
  },
  {
   "cell_type": "code",
   "execution_count": null,
   "metadata": {},
   "outputs": [
    {
     "data": {
      "text/plain": [
       "'There is no information provided in the given portion of the document about the course number of the professional master version of Computer Vision.'"
      ]
     },
     "execution_count": 100,
     "metadata": {},
     "output_type": "execute_result"
    }
   ],
   "source": [
    "result = qa_chain(\"What's the course number of professional master version of Computer Vision?\")\n",
    "result['result']"
   ]
  },
  {
   "cell_type": "code",
   "execution_count": null,
   "metadata": {},
   "outputs": [
    {
     "data": {
      "text/plain": [
       "'There is no information provided in the given portion of the document about the course id of the professional master version of Computer Vision.'"
      ]
     },
     "execution_count": 102,
     "metadata": {},
     "output_type": "execute_result"
    }
   ],
   "source": [
    "result = qa_chain(\"What's the course id of professional master version of Computer Vision?\")\n",
    "result['result']"
   ]
  },
  {
   "cell_type": "code",
   "execution_count": 5,
   "metadata": {},
   "outputs": [
    {
     "data": {
      "text/plain": [
       "'Yes, CSE 561: Computer Communications And Networks is offered jointly with E E major and requires CSE 451 or equivalent as a prerequisite. CSE 578: Convex Optimization is also offered jointly with E E 578.'"
      ]
     },
     "execution_count": 5,
     "metadata": {},
     "output_type": "execute_result"
    }
   ],
   "source": [
    "result = qa_chain(\"Do you know any course in CSE that offers jointly with E E ?\")\n",
    "result['result']"
   ]
  }
 ],
 "metadata": {
  "kernelspec": {
   "display_name": "base",
   "language": "python",
   "name": "python3"
  },
  "language_info": {
   "codemirror_mode": {
    "name": "ipython",
    "version": 3
   },
   "file_extension": ".py",
   "mimetype": "text/x-python",
   "name": "python",
   "nbconvert_exporter": "python",
   "pygments_lexer": "ipython3",
   "version": "3.9.13"
  },
  "orig_nbformat": 4
 },
 "nbformat": 4,
 "nbformat_minor": 2
}
