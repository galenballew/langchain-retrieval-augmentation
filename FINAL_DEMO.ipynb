{
 "cells": [
  {
   "cell_type": "code",
   "execution_count": 1,
   "id": "f53f4688",
   "metadata": {},
   "outputs": [],
   "source": [
    "from keys import NEWS_API_KEY, OPENAI_API_KEY, GOOGLE_API_KEY, GOOGLE_CSE_ID, WOLFRAM_ALPHA_APPID, WEATHER_API_KEY\n",
    "from langchain.embeddings.openai import OpenAIEmbeddings\n",
    "from langchain.vectorstores import Chroma\n",
    "from langchain.chains import RetrievalQA\n",
    "from langchain.prompts import PromptTemplate\n",
    "from langchain.chat_models import ChatOpenAI\n",
    "from langchain.memory import ConversationBufferMemory\n",
    "from langchain.agents import AgentType\n",
    "from langchain.agents import initialize_agent\n",
    "from langchain.agents import load_tools\n",
    "from langchain.agents import Tool\n",
    "import time"
   ]
  },
  {
   "cell_type": "markdown",
   "id": "182efe73",
   "metadata": {},
   "source": [
    "# Video Recording\n",
    "[Link to video here](https://youtu.be/7VOPEAVuTtM)"
   ]
  },
  {
   "cell_type": "markdown",
   "id": "09e09d89",
   "metadata": {},
   "source": [
    "# Experimenting with the Agent Tools\n",
    "Let's start by seeing how we can influence the behavior of an Agent by changing it's available tooling. Agents are ultimately decision makers about when to use Tools and which Tools to use.\n",
    "\n",
    "For this example, we'll only give the Agent access to Wikipedia by injecting Wikipedia into the Agent prompt."
   ]
  },
  {
   "cell_type": "code",
   "execution_count": 2,
   "id": "06df8328",
   "metadata": {},
   "outputs": [],
   "source": [
    "TEMPLATE = \"\"\"Assistant is a large language model trained by OpenAI.\n",
    "\n",
    "Assistant is designed to be able to assist with a wide range of tasks, from answering simple questions to providing in-depth explanations and discussions on a wide range of topics. As a language model, Assistant is able to generate human-like text based on the input it receives, allowing it to engage in natural-sounding conversations and provide responses that are coherent and relevant to the topic at hand.\n",
    "\n",
    "Assistant is constantly learning and improving, and its capabilities are constantly evolving. It is able to process and understand large amounts of text, and can use this knowledge to provide accurate and informative responses to a wide range of questions. Additionally, Assistant is able to generate its own text based on the input it receives, allowing it to engage in discussions and provide explanations and descriptions on a wide range of topics.\n",
    "\n",
    "Overall, Assistant is a powerful tool that can help with a wide range of tasks and provide valuable insights and information on a wide range of topics. Whether you need help with a specific question or just want to have a conversation about a particular topic, Assistant is here to assist.\n",
    "\n",
    "To use a tool, please use the following format:\n",
    "\n",
    "```\n",
    "Thought: Do I need to use a tool? Yes\n",
    "Action: the action to take, should be one of [{tool_names}]\n",
    "Action Input: the input to the action\n",
    "Observation: the result of the action\n",
    "```\n",
    "\n",
    "When using the CSE Lookup tool, respond with the first result you receive from the tool. Do not use Google Search or Wikipedia to answer questions about the CSE course catalog.\n",
    "\n",
    "When you have a response to say to the Human, or if you do not need to use a tool, you MUST use the format:\n",
    "\n",
    "```\n",
    "Thought: Do I need to use a tool? No\n",
    "{ai_prefix}: [your response here]\n",
    "```\n",
    "\n",
    "SUFFIX = Begin!\n",
    "\n",
    "Previous conversation history:\n",
    "{chat_history}\n",
    "\n",
    "New input: {input}\n",
    "{agent_scratchpad}\"\"\"\n"
   ]
  },
  {
   "cell_type": "code",
   "execution_count": 3,
   "id": "4c28f10e",
   "metadata": {},
   "outputs": [
    {
     "name": "stdout",
     "output_type": "stream",
     "text": [
      "\n",
      "\n",
      "\u001b[1m> Entering new AgentExecutor chain...\u001b[0m\n",
      "\u001b[32;1m\u001b[1;3mAction:\n",
      "```\n",
      "{\n",
      "  \"action\": \"Wikipedia\",\n",
      "  \"action_input\": {\n",
      "    \"query\": \"weather today\"\n",
      "  }\n",
      "}\n",
      "```\n",
      "\u001b[0m\n",
      "Observation: \u001b[36;1m\u001b[1;3mPage: Weather\n",
      "Summary: Weather is the state of the atmosphere, describing for example the degree to which it is hot or cold, wet or dry, calm or stormy, clear or cloudy. On Earth, most weather phenomena occur in the lowest layer of the planet's atmosphere, the troposphere, just below the stratosphere. Weather refers to day-to-day temperature, precipitation, and other atmospheric conditions, whereas climate is the term for the averaging of atmospheric conditions over longer periods of time. When used without qualification, \"weather\" is generally understood to mean the weather of Earth.\n",
      "Weather is driven by air pressure, temperature, and moisture differences between one place and another. These differences can occur due to the Sun's angle at any particular spot, which varies with latitude. The strong temperature contrast between polar and tropical air gives rise to the largest scale atmospheric circulations: the Hadley cell, the Ferrel cell, the polar cell, and the jet stream.  Weather systems in the middle latitudes, such as extratropical cyclones, are caused by instabilities of the jet streamflow.  Because Earth's axis is tilted relative to its orbital plane (called the ecliptic), sunlight is incident at different angles at different times of the year. On Earth's surface, temperatures usually range ±40 °C (−40 °F to 104 °F) annually. Over thousands of years, changes in Earth's orbit can affect the amount and distribution of solar energy received by Earth, thus influencing long-term climate and global climate change.\n",
      "Surface temperature differences in turn cause pressure differences.  Higher altitudes are cooler than lower altitudes, as most atmospheric heating is due to contact with the Earth's surface while radiative losses to space are mostly constant. Weather forecasting is the application of science and technology to predict the state of the atmosphere for a future time and a given location. Earth's weather system is a chaotic system; as a result, small changes to one part of the system can grow to have large effects on the system as a whole. Human attempts to control the weather have occurred throughout history, and there is evidence that human activities such as agriculture and industry have modified weather patterns\n",
      "Studying how the weather works on other planets has been helpful in understanding how weather works on Earth. A famous landmark in the Solar System, Jupiter's Great Red Spot, is an anticyclonic storm known to have existed for at least 300 years.  However, the weather is not limited to planetary bodies.  A star's corona is constantly being lost to space, creating what is essentially a very thin atmosphere throughout the Solar System.  The movement of mass ejected from the Sun is known as the solar wind.\n",
      "\n",
      "Page: Al Roker\n",
      "Summary: Albert Lincoln Roker Jr. (born August 20, 1954) is an American weather presenter, journalist, television personality, and author. He is the current weather anchor on NBC's Today, and occasionally co-hosts 3rd Hour Today. He has an inactive American Meteorological Society Television Seal #238.\n",
      "\n",
      "Page: America's Morning Headquarters\n",
      "Summary: America's Morning Headquarters (formerly Your Weather Today, Morning Rush and AMHQ) is an American morning television program on The Weather Channel. Airing every morning from 6  a.m. to 12 p.m. Eastern Time, the program focuses on morning weather conditions, news and business information from around the country. The program debuted on January 3, 2000, under its original title. If there is a major weather event, it used to air until 10 am, however since 2017, it's usually cut back an hour for additional live broadcasts for Weather Center Live.\u001b[0m\n",
      "Thought:\u001b[32;1m\u001b[1;3mI need to provide the current weather for the human. \n",
      "Action:\n",
      "```\n",
      "{\n",
      "  \"action\": \"Wikipedia\",\n",
      "  \"action_input\": {\n",
      "    \"query\": \"current weather\"\n",
      "  }\n",
      "}\n",
      "```\n",
      "\u001b[0m\n",
      "Observation: \u001b[36;1m\u001b[1;3mPage: Weather\n",
      "Summary: Weather is the state of the atmosphere, describing for example the degree to which it is hot or cold, wet or dry, calm or stormy, clear or cloudy. On Earth, most weather phenomena occur in the lowest layer of the planet's atmosphere, the troposphere, just below the stratosphere. Weather refers to day-to-day temperature, precipitation, and other atmospheric conditions, whereas climate is the term for the averaging of atmospheric conditions over longer periods of time. When used without qualification, \"weather\" is generally understood to mean the weather of Earth.\n",
      "Weather is driven by air pressure, temperature, and moisture differences between one place and another. These differences can occur due to the Sun's angle at any particular spot, which varies with latitude. The strong temperature contrast between polar and tropical air gives rise to the largest scale atmospheric circulations: the Hadley cell, the Ferrel cell, the polar cell, and the jet stream.  Weather systems in the middle latitudes, such as extratropical cyclones, are caused by instabilities of the jet streamflow.  Because Earth's axis is tilted relative to its orbital plane (called the ecliptic), sunlight is incident at different angles at different times of the year. On Earth's surface, temperatures usually range ±40 °C (−40 °F to 104 °F) annually. Over thousands of years, changes in Earth's orbit can affect the amount and distribution of solar energy received by Earth, thus influencing long-term climate and global climate change.\n",
      "Surface temperature differences in turn cause pressure differences.  Higher altitudes are cooler than lower altitudes, as most atmospheric heating is due to contact with the Earth's surface while radiative losses to space are mostly constant. Weather forecasting is the application of science and technology to predict the state of the atmosphere for a future time and a given location. Earth's weather system is a chaotic system; as a result, small changes to one part of the system can grow to have large effects on the system as a whole. Human attempts to control the weather have occurred throughout history, and there is evidence that human activities such as agriculture and industry have modified weather patterns\n",
      "Studying how the weather works on other planets has been helpful in understanding how weather works on Earth. A famous landmark in the Solar System, Jupiter's Great Red Spot, is an anticyclonic storm known to have existed for at least 300 years.  However, the weather is not limited to planetary bodies.  A star's corona is constantly being lost to space, creating what is essentially a very thin atmosphere throughout the Solar System.  The movement of mass ejected from the Sun is known as the solar wind.\n",
      "\n",
      "Page: The Weather Channel\n",
      "Summary: The Weather Channel (TWC) is an American pay television channel owned by Weather Group, LLC, a subsidiary of Allen Media Group. The channel's headquarters are in Atlanta. Launched on May 2, 1982, the channel broadcasts weather forecasts and weather-related news and analysis, along with documentaries and entertainment programming related to weather. A sister network, Weatherscan, was a digital cable and satellite service that offered 24-hour automated local forecasts and radar imagery. Weatherscan was officially shut down on December 9, 2022. The Weather Channel also produces outsourced weathercasts, notably for CBS News and RFD-TV.The Weather Channel was a subsidiary of the Weather Company until the latter was bought by IBM in 2016. The Weather Channel licenses its weather data from IBM.\n",
      "\n",
      "Page: Weather forecasting\n",
      "Summary: Weather forecasting is the application of science and technology to predict the conditions of the atmosphere for a given location and time. People have attempted to predict the weather informally for millennia and formally since the 19th century.\n",
      "Weather forecasts are made by collecting quantitative data about the current state of the atmosphere, land, and\u001b[0m\n",
      "Thought:\u001b[32;1m\u001b[1;3mI need to refine my search to provide the current weather for the human's location.\n",
      "Action:\n",
      "```\n",
      "{\n",
      "  \"action\": \"Wikipedia\",\n",
      "  \"action_input\": {\n",
      "    \"query\": \"current weather [insert location here]\"\n",
      "  }\n",
      "}\n",
      "```\n",
      "\n",
      "\u001b[0m\n",
      "Observation: \u001b[36;1m\u001b[1;3mPage: Weatherscan\n",
      "Summary: Weatherscan was an American digital cable and satellite television network owned by Allen Media Group. A spinoff of The Weather Channel, Weatherscan featured uninterrupted local weather information in graphical format on a continuous loop that was generated by an IntelliStar unit installed at the cable provider's headend; unlike The Weather Channel, Weatherscan did not feature on-air talent of any kind.\n",
      "\n",
      "Page: NEMA connector\n",
      "Summary: NEMA connectors are power plugs and receptacles used for AC mains electricity in North America and other countries that use the standards set by the US National Electrical Manufacturers Association.  NEMA wiring devices are made in current ratings from 15 to 60 amperes (A), with voltage ratings from 125 to 600 volts (V). Different combinations of contact blade widths, shapes, orientations, and dimensions create non-interchangeable connectors that are unique for each combination of voltage, electric current carrying capacity, and grounding system.\n",
      "NEMA 1-15P (two-pole, no ground) and NEMA 5-15P (two-pole with ground pin) plugs are used on common domestic electrical equipment, and NEMA 5-15R is the standard 15-ampere electric receptacle (outlet) found in the United States, and under relevant national standards, in Canada (CSA C22.2 No. 42),  Mexico (NMX-J-163-ANCE) and Japan (JIS C 8303).\n",
      "Other plug and receptacle types are for special purposes or for heavy-duty applications.\n",
      "The dimensional standard for electrical connectors is ANSI/NEMA WD-6 and is available from the NEMA website.\n",
      "\n",
      "\n",
      "\n",
      "Page: Jet stream\n",
      "Summary: Jet streams are fast flowing, narrow, meandering air currents in the atmospheres of some planets, including Earth. On Earth, the main jet streams are located near the altitude of the tropopause and are westerly winds (flowing west to east). Jet streams may start, stop, split into two or more parts, combine into one stream, or flow in various directions including opposite to the direction of the remainder of the jet.\u001b[0m\n",
      "Thought:\u001b[32;1m\u001b[1;3mI need to refine my search to provide the current weather for the human's location. \n",
      "Action:\n",
      "```\n",
      "{\n",
      "  \"action\": \"Wikipedia\",\n",
      "  \"action_input\": {\n",
      "    \"query\": \"current weather [insert location here]\"\n",
      "  }\n",
      "}\n",
      "```\n",
      "\n",
      "\u001b[0m\n",
      "Observation: \u001b[36;1m\u001b[1;3mPage: Weatherscan\n",
      "Summary: Weatherscan was an American digital cable and satellite television network owned by Allen Media Group. A spinoff of The Weather Channel, Weatherscan featured uninterrupted local weather information in graphical format on a continuous loop that was generated by an IntelliStar unit installed at the cable provider's headend; unlike The Weather Channel, Weatherscan did not feature on-air talent of any kind.\n",
      "\n",
      "Page: NEMA connector\n",
      "Summary: NEMA connectors are power plugs and receptacles used for AC mains electricity in North America and other countries that use the standards set by the US National Electrical Manufacturers Association.  NEMA wiring devices are made in current ratings from 15 to 60 amperes (A), with voltage ratings from 125 to 600 volts (V). Different combinations of contact blade widths, shapes, orientations, and dimensions create non-interchangeable connectors that are unique for each combination of voltage, electric current carrying capacity, and grounding system.\n",
      "NEMA 1-15P (two-pole, no ground) and NEMA 5-15P (two-pole with ground pin) plugs are used on common domestic electrical equipment, and NEMA 5-15R is the standard 15-ampere electric receptacle (outlet) found in the United States, and under relevant national standards, in Canada (CSA C22.2 No. 42),  Mexico (NMX-J-163-ANCE) and Japan (JIS C 8303).\n",
      "Other plug and receptacle types are for special purposes or for heavy-duty applications.\n",
      "The dimensional standard for electrical connectors is ANSI/NEMA WD-6 and is available from the NEMA website.\n",
      "\n",
      "\n",
      "\n",
      "Page: Jet stream\n",
      "Summary: Jet streams are fast flowing, narrow, meandering air currents in the atmospheres of some planets, including Earth. On Earth, the main jet streams are located near the altitude of the tropopause and are westerly winds (flowing west to east). Jet streams may start, stop, split into two or more parts, combine into one stream, or flow in various directions including opposite to the direction of the remainder of the jet.\u001b[0m\n",
      "Thought:\u001b[32;1m\u001b[1;3mI need to use a different tool to provide the current weather for the human's location. \n",
      "Action:\n",
      "```\n",
      "{\n",
      "  \"action\": \"Final Answer\",\n",
      "  \"action_input\": \"I recommend using a weather website or app to get the most accurate and up-to-date information on the current weather in your location.\"\n",
      "}\n",
      "```\n",
      "\n",
      "\u001b[0m\n",
      "\n",
      "\u001b[1m> Finished chain.\u001b[0m\n"
     ]
    },
    {
     "data": {
      "text/plain": [
       "'I recommend using a weather website or app to get the most accurate and up-to-date information on the current weather in your location.'"
      ]
     },
     "execution_count": 3,
     "metadata": {},
     "output_type": "execute_result"
    }
   ],
   "source": [
    "\n",
    "class Chatbot:\n",
    "    def __init__(self, template=TEMPLATE):\n",
    "        self.template = template\n",
    "        self.prompt = PromptTemplate(\n",
    "            input_variables=[\"tool_names\", \"ai_prefix\",\n",
    "                             \"chat_history\", \"agent_scratchpad\", \"input\"],\n",
    "            template=self.template)\n",
    "        self.memory = ConversationBufferMemory()\n",
    "        self.llm = ChatOpenAI(\n",
    "            openai_api_key=OPENAI_API_KEY,\n",
    "            temperature=0,\n",
    "            model_name='gpt-3.5-turbo')\n",
    "        self.tools = load_tools([\n",
    "            'wikipedia', ################# only wikipedia\n",
    "        ],\n",
    "            llm=self.llm)\n",
    "        self.agent = initialize_agent(\n",
    "            self.tools,\n",
    "            self.llm,\n",
    "            agent=AgentType.STRUCTURED_CHAT_ZERO_SHOT_REACT_DESCRIPTION,\n",
    "            verbose=True,\n",
    "            memory=self.memory,\n",
    "            prompt=self.prompt)\n",
    "    def respond(self, user_prompt):\n",
    "        return self.agent.run(input=user_prompt)\n",
    "    \n",
    "chatbot = Chatbot(template=TEMPLATE)\n",
    "chatbot.respond(\"What is the weather like today?\")\n"
   ]
  },
  {
   "cell_type": "markdown",
   "id": "36bc83f6",
   "metadata": {},
   "source": [
    "When you're a hammer, everything looks like a nail. Wikipedia is great, but it doesn't give us the answer we're looking for. Let's add a weather Tool to the Agent.\n",
    "\n",
    "The Agent will see the Tool listed in its initial prompt and will search over the natural language descriptions of those tools to determine which to use. Here is what the Agent sees for the OpenWeatherMap API Tool:\n",
    "\n",
    "``` \n",
    "    name = \"OpenWeatherMap\"\n",
    "    description = (\n",
    "        \"A wrapper around OpenWeatherMap API. \"\n",
    "        \"Useful for fetching current weather information for a specified location. \"\n",
    "        \"Input should be a location string (e.g. London,GB).\"\n",
    "    )\n",
    "````"
   ]
  },
  {
   "cell_type": "code",
   "execution_count": 4,
   "id": "a21136b1",
   "metadata": {},
   "outputs": [
    {
     "name": "stdout",
     "output_type": "stream",
     "text": [
      "\n",
      "\n",
      "\u001b[1m> Entering new AgentExecutor chain...\u001b[0m\n",
      "\u001b[32;1m\u001b[1;3mThought: I can use the OpenWeatherMap tool to fetch the current weather information for the user's location.\n",
      "\n",
      "Action:\n",
      "```\n",
      "{\n",
      "  \"action\": \"OpenWeatherMap\",\n",
      "  \"action_input\": \"New York\"\n",
      "}\n",
      "```\n",
      "\n",
      "\u001b[0m\n",
      "Observation: \u001b[33;1m\u001b[1;3mIn New York, the current weather is as follows:\n",
      "Detailed status: clear sky\n",
      "Wind speed: 7.15 m/s, direction: 331°\n",
      "Humidity: 35%\n",
      "Temperature: \n",
      "  - Current: 24.79°C\n",
      "  - High: 27.9°C\n",
      "  - Low: 19.41°C\n",
      "  - Feels like: 24.24°C\n",
      "Rain: {}\n",
      "Heat index: None\n",
      "Cloud cover: 0%\u001b[0m\n",
      "Thought:\u001b[32;1m\u001b[1;3mThe current weather in New York is clear and sunny with a temperature of 24.79°C. \n",
      "\n",
      "Action:\n",
      "```\n",
      "{\n",
      "  \"action\": \"Final Answer\",\n",
      "  \"action_input\": \"The current weather in New York is clear and sunny with a temperature of 24.79°C.\"\n",
      "}\n",
      "```\n",
      "\n",
      "\u001b[0m\n",
      "\n",
      "\u001b[1m> Finished chain.\u001b[0m\n"
     ]
    },
    {
     "data": {
      "text/plain": [
       "'The current weather in New York is clear and sunny with a temperature of 24.79°C.'"
      ]
     },
     "execution_count": 4,
     "metadata": {},
     "output_type": "execute_result"
    }
   ],
   "source": [
    "class Chatbot:\n",
    "    def __init__(self, template=TEMPLATE):\n",
    "        self.template = template\n",
    "        self.prompt = PromptTemplate(\n",
    "            input_variables=[\"tool_names\", \"ai_prefix\",\n",
    "                             \"chat_history\", \"agent_scratchpad\", \"input\"],\n",
    "            template=self.template)\n",
    "        self.memory = ConversationBufferMemory()\n",
    "        self.llm = ChatOpenAI(\n",
    "            openai_api_key=OPENAI_API_KEY,\n",
    "            temperature=0,\n",
    "            model_name='gpt-3.5-turbo')\n",
    "        self.tools = load_tools([\n",
    "            'wikipedia',\n",
    "            'openweathermap-api'\n",
    "        ],\n",
    "            llm=self.llm,\n",
    "            openweathermap_api_key=WEATHER_API_KEY)\n",
    "        self.agent = initialize_agent(\n",
    "            self.tools,\n",
    "            self.llm,\n",
    "            agent=AgentType.STRUCTURED_CHAT_ZERO_SHOT_REACT_DESCRIPTION,\n",
    "            verbose=True,\n",
    "            memory=self.memory,\n",
    "            prompt=self.prompt)\n",
    "    def respond(self, user_prompt):\n",
    "        return self.agent.run(input=user_prompt)\n",
    "    \n",
    "chatbot = Chatbot(template=TEMPLATE)\n",
    "chatbot.respond(\"What is the weather like today?\")"
   ]
  },
  {
   "cell_type": "markdown",
   "id": "11cfa2ba",
   "metadata": {},
   "source": [
    "\n",
    "# Experimenting with Vector Database Retrieval\n"
   ]
  },
  {
   "cell_type": "markdown",
   "id": "e703c9d7",
   "metadata": {},
   "source": [
    "There are a few parameters can can be tweaked when it comes to retrieval augmentation. In this demo, we'll explore _k_ chunks being returned to the `RetrievalQA` chain. \n",
    "\n",
    "If _k_ is low, only a few docs/chunks will be returned and the LLM will need to use those to determine an answer. The more chunks _k_ that we return, the better the reponse, but the lower the performance. This is especially tricky for the UW CSE course catalog where docs (classes) much later down the page and therefore in separate chunks may reference information much earlier in the page (e.g., course prerequisites).\n",
    "\n",
    "We'll explore an example of a low _k_, followed by a high _k_, looking at both their reponse and the time it took to generate it."
   ]
  },
  {
   "cell_type": "code",
   "execution_count": 9,
   "id": "317fda70",
   "metadata": {},
   "outputs": [
    {
     "name": "stderr",
     "output_type": "stream",
     "text": [
      "Using embedded DuckDB with persistence: data will be stored in: rtdocs-vectordb\n"
     ]
    }
   ],
   "source": [
    "embeddings = OpenAIEmbeddings(openai_api_key=OPENAI_API_KEY)\n",
    "vectordb = Chroma(persist_directory='rtdocs-vectordb',\n",
    "                  embedding_function=embeddings)\n",
    "\n",
    "# IMPORTANT\n",
    "# search_type \"mmr\" or \"similarity\", where mmr aims for both relevance and diversity\n",
    "# k is the number of results to return, the more results we return the better the extraction between vectors,\n",
    "# but we take a hit to performance especially when using map_reduce chain_type\n",
    "retriever = vectordb.as_retriever(search_type=\"mmr\", search_kwargs={\"k\": 6}) \n",
    "\n",
    "# IMPORTANT\n",
    "# map_reduce passes the inital prompt to each vector chunk that the retriever retrieves. \n",
    "# it then aggregates the responses from each chunk and passes those back to itself to generate a final response\n",
    "# there are other chain_types, but map_reduce is the most accurate for our use case, \n",
    "# please see final report for more details\n",
    "qa_chain = RetrievalQA.from_chain_type(llm=ChatOpenAI(openai_api_key=OPENAI_API_KEY, temperature=0),\n",
    "                                       chain_type=\"map_reduce\",\n",
    "                                       retriever=retriever,\n",
    "                                       return_source_documents=False) #if you set to true, \n",
    "#you will need to change the Tool to use qa.predict instead and parse the args "
   ]
  },
  {
   "cell_type": "code",
   "execution_count": 10,
   "id": "4f2e79ea",
   "metadata": {},
   "outputs": [],
   "source": [
    "TEMPLATE = \"\"\"Assistant is a large language model trained by OpenAI.\n",
    "\n",
    "Assistant is designed to be able to assist with a wide range of tasks, from answering simple questions to providing in-depth explanations and discussions on a wide range of topics. As a language model, Assistant is able to generate human-like text based on the input it receives, allowing it to engage in natural-sounding conversations and provide responses that are coherent and relevant to the topic at hand.\n",
    "\n",
    "Assistant is constantly learning and improving, and its capabilities are constantly evolving. It is able to process and understand large amounts of text, and can use this knowledge to provide accurate and informative responses to a wide range of questions. Additionally, Assistant is able to generate its own text based on the input it receives, allowing it to engage in discussions and provide explanations and descriptions on a wide range of topics.\n",
    "\n",
    "Overall, Assistant is a powerful tool that can help with a wide range of tasks and provide valuable insights and information on a wide range of topics. Whether you need help with a specific question or just want to have a conversation about a particular topic, Assistant is here to assist.\n",
    "\n",
    "TOOLS:\n",
    "------\n",
    "- UW CSE Lookup\n",
    "\n",
    "\n",
    "To use a tool, please use the following format:\n",
    "\n",
    "```\n",
    "Thought: Do I need to use a tool? Yes\n",
    "Action: the action to take, should be one of [{tool_names}]\n",
    "Action Input: the input to the action\n",
    "Observation: the result of the action\n",
    "```\n",
    "\n",
    "When using the CSE Lookup tool, respond with the first result you receive from the tool. Do not use Google Search or Wikipedia to answer questions about the CSE course catalog.\n",
    "\n",
    "When you have a response to say to the Human, or if you do not need to use a tool, you MUST use the format:\n",
    "\n",
    "```\n",
    "Thought: Do I need to use a tool? No\n",
    "{ai_prefix}: [your response here]\n",
    "```\n",
    "\n",
    "SUFFIX = Begin!\n",
    "\n",
    "Previous conversation history:\n",
    "{chat_history}\n",
    "\n",
    "New input: {input}\n",
    "{agent_scratchpad}\"\"\"\n",
    "\n",
    "\n",
    "class Chatbot:\n",
    "    def __init__(self, template=TEMPLATE, qa_chain=qa_chain):\n",
    "        self.template = template\n",
    "        self.prompt = PromptTemplate(\n",
    "            input_variables=[\"tool_names\", \"ai_prefix\",\n",
    "                             \"chat_history\", \"agent_scratchpad\", \"input\"],\n",
    "            template=self.template)\n",
    "        self.memory = ConversationBufferMemory()\n",
    "        self.llm = ChatOpenAI(\n",
    "            openai_api_key=OPENAI_API_KEY,\n",
    "            temperature=0,\n",
    "            model_name='gpt-3.5-turbo')\n",
    "        # load_tools() is not compatible with custom tools\n",
    "        self.tools = [Tool(\n",
    "                name=\"UW CSE Lookup\",\n",
    "                func=qa_chain.run,\n",
    "                description=(\"use this tool when you need to answer questions \"\n",
    "                             \"about the UW CSE course catalog \"\n",
    "                             \"or CSE courses in general \"\n",
    "                             \"input should be a fully formed question\"),\n",
    "                return_direct=True # add return_direct=True if you want to return the Tool response rather than the agent response\n",
    "            )]\n",
    "        self.agent = initialize_agent(\n",
    "            self.tools,\n",
    "            self.llm,\n",
    "            agent=AgentType.STRUCTURED_CHAT_ZERO_SHOT_REACT_DESCRIPTION,\n",
    "            verbose=True,\n",
    "            memory=self.memory,\n",
    "            prompt=self.prompt)\n",
    "\n",
    "    def respond(self, user_prompt):\n",
    "        return self.agent.run(input=user_prompt)\n",
    "    \n"
   ]
  },
  {
   "cell_type": "code",
   "execution_count": 11,
   "id": "2c14de95",
   "metadata": {},
   "outputs": [
    {
     "name": "stdout",
     "output_type": "stream",
     "text": [
      "\n",
      "\n",
      "\u001b[1m> Entering new AgentExecutor chain...\u001b[0m\n",
      "\u001b[32;1m\u001b[1;3mAction:\n",
      "```\n",
      "{\n",
      "  \"action\": \"UW CSE Lookup\",\n",
      "  \"action_input\": \"What is the course description for CSE 311?\"\n",
      "}\n",
      "```\n",
      "\u001b[0m\n",
      "Observation: \u001b[36;1m\u001b[1;3mI'm sorry, I cannot provide an answer to this question as the course description for CSE 311 was not provided in the given text.\u001b[0m\n",
      "\u001b[32;1m\u001b[1;3m\u001b[0m\n",
      "\n",
      "\u001b[1m> Finished chain.\u001b[0m\n",
      "22.10927939414978\n"
     ]
    }
   ],
   "source": [
    "chatbot = Chatbot(template=TEMPLATE, qa_chain=qa_chain)\n",
    "start = time.time()\n",
    "chatbot.respond(\"What is CSE 311 about?\")\n",
    "stop = time.time()\n",
    "print(stop - start)"
   ]
  },
  {
   "cell_type": "code",
   "execution_count": 19,
   "id": "7920ce2e",
   "metadata": {},
   "outputs": [
    {
     "name": "stdout",
     "output_type": "stream",
     "text": [
      "\n",
      "\n",
      "\u001b[1m> Entering new AgentExecutor chain...\u001b[0m\n",
      "\u001b[32;1m\u001b[1;3mAction:\n",
      "```\n",
      "{\n",
      "  \"action\": \"UW CSE Lookup\",\n",
      "  \"action_input\": \"What is the course content of CSE 311?\"\n",
      "}\n",
      "```\n",
      "\u001b[0m\n",
      "Observation: \u001b[36;1m\u001b[1;3mHere's the relevant text:\n",
      "\n",
      "CSE 311: Foundations of Computing I    \n",
      "          Basic concepts of computer organization, including machine and assembly language, and operating systems. Number systems, Boolean algebra, and digital logic. Data structures, algorithms, and program design using C. Prerequisite: CSE 143.\n",
      "\n",
      "The course content of CSE 311 includes basic concepts of computer organization, including machine and assembly language, and operating systems. It also covers number systems, Boolean algebra, and digital logic. Additionally, the course covers data structures, algorithms, and program design using C.\u001b[0m\n",
      "\u001b[32;1m\u001b[1;3m\u001b[0m\n",
      "\n",
      "\u001b[1m> Finished chain.\u001b[0m\n",
      "43.107470989227295\n"
     ]
    }
   ],
   "source": [
    "retriever = vectordb.as_retriever(search_type=\"mmr\", search_kwargs={\"k\": 12}) \n",
    "\n",
    "qa_chain = RetrievalQA.from_chain_type(llm=ChatOpenAI(openai_api_key=OPENAI_API_KEY, temperature=0),\n",
    "                                       chain_type=\"map_reduce\",\n",
    "                                       retriever=retriever,\n",
    "                                       return_source_documents=False)\n",
    "\n",
    "chatbot = Chatbot(template=TEMPLATE, qa_chain=qa_chain)\n",
    "start = time.time()\n",
    "chatbot.respond(\"What is CSE 311 about?\")\n",
    "stop = time.time()\n",
    "print(stop - start)"
   ]
  },
  {
   "cell_type": "markdown",
   "id": "dbdeef0a",
   "metadata": {},
   "source": [
    "**_NOTE TO THE READER:_**  \n",
    "\n",
    "This is wildly inconsistent behavior! The vectorDB interaction with the LLM does **NOT** work like a typical database. Each run of both MapReduce algorithm produces outputs, which are in turn consumed as inputs by the LLM. There can be a huge deviation in the content and the quality of content between each iterative step of these algorithms. MMR is expected to be very consistent though, since it is a mathematical calculation on the vector embedding.\n",
    "\n",
    "You may find that the LLM fails to produce a higher quality answer (just try re-running the cell above) but it will still take much longer."
   ]
  },
  {
   "cell_type": "markdown",
   "id": "672df9d1",
   "metadata": {},
   "source": [
    "\n",
    "# Experimenting with Custom Tools\n"
   ]
  },
  {
   "cell_type": "markdown",
   "id": "74678727",
   "metadata": {},
   "source": [
    "Let's see what happens when we change the natural language description of a CustomTool. The Agent will be using the description as input to it's behavior. Be sure to look at the `self.tools = Tool(description=)` lines."
   ]
  },
  {
   "cell_type": "code",
   "execution_count": 20,
   "id": "302b7a2e",
   "metadata": {},
   "outputs": [
    {
     "name": "stderr",
     "output_type": "stream",
     "text": [
      "Using embedded DuckDB with persistence: data will be stored in: rtdocs-vectordb\n"
     ]
    }
   ],
   "source": [
    "TEMPLATE = \"\"\"Assistant is a large language model trained by OpenAI.\n",
    "\n",
    "Assistant is designed to be able to assist with a wide range of tasks, from answering simple questions to providing in-depth explanations and discussions on a wide range of topics. As a language model, Assistant is able to generate human-like text based on the input it receives, allowing it to engage in natural-sounding conversations and provide responses that are coherent and relevant to the topic at hand.\n",
    "\n",
    "Assistant is constantly learning and improving, and its capabilities are constantly evolving. It is able to process and understand large amounts of text, and can use this knowledge to provide accurate and informative responses to a wide range of questions. Additionally, Assistant is able to generate its own text based on the input it receives, allowing it to engage in discussions and provide explanations and descriptions on a wide range of topics.\n",
    "\n",
    "Overall, Assistant is a powerful tool that can help with a wide range of tasks and provide valuable insights and information on a wide range of topics. Whether you need help with a specific question or just want to have a conversation about a particular topic, Assistant is here to assist.\n",
    "\n",
    "TOOLS:\n",
    "------\n",
    "- Wikipedia\n",
    "- Math\n",
    "- Google Search\n",
    "- Python REPL\n",
    "- Wolfram Alpha\n",
    "- Terminal\n",
    "- News API\n",
    "- OpenWeatherMap API\n",
    "- UW CSE Lookup\n",
    "\n",
    "\n",
    "To use a tool, please use the following format:\n",
    "\n",
    "```\n",
    "Thought: Do I need to use a tool? Yes\n",
    "Action: the action to take, should be one of [{tool_names}]\n",
    "Action Input: the input to the action\n",
    "Observation: the result of the action\n",
    "```\n",
    "\n",
    "When using the CSE Lookup tool, respond with the first result you receive from the tool. Do not use Google Search or Wikipedia to answer questions about the CSE course catalog.\n",
    "\n",
    "When you have a response to say to the Human, or if you do not need to use a tool, you MUST use the format:\n",
    "\n",
    "```\n",
    "Thought: Do I need to use a tool? No\n",
    "{ai_prefix}: [your response here]\n",
    "```\n",
    "\n",
    "SUFFIX = Begin!\n",
    "\n",
    "Previous conversation history:\n",
    "{chat_history}\n",
    "\n",
    "New input: {input}\n",
    "{agent_scratchpad}\"\"\"\n",
    "\n",
    "embeddings = OpenAIEmbeddings(openai_api_key=OPENAI_API_KEY)\n",
    "vectordb = Chroma(persist_directory='rtdocs-vectordb',\n",
    "                  embedding_function=embeddings)\n",
    "\n",
    "# IMPORTANT\n",
    "# search_type \"mmr\" or \"similarity\", where mmr aims for both relevance and diversity\n",
    "# k is the number of results to return, the more results we return the better the extraction between vectors, but we take a hit to performance especially when using map_reduce chain_type\n",
    "retriever = vectordb.as_retriever(search_type=\"mmr\", search_kwargs={\"k\": 12}) \n",
    "\n",
    "# IMPORTANT\n",
    "# map_reduce passes the inital prompt to each vector chunk that the retriever retrieves. it then aggregates the responses from each chunk and passes those back to itself to generate a final response\n",
    "# there are other chain_types, but map_reduce is the most accurate for our use case, please see final report for more details\n",
    "qa_chain = RetrievalQA.from_chain_type(llm=ChatOpenAI(openai_api_key=OPENAI_API_KEY, temperature=0),\n",
    "                                       chain_type=\"map_reduce\",\n",
    "                                       retriever=retriever,\n",
    "                                       return_source_documents=False) #if you set to true, you will need to change the Tool to use qa.predict instead and parse the args \n"
   ]
  },
  {
   "cell_type": "code",
   "execution_count": 25,
   "id": "db6065dc",
   "metadata": {},
   "outputs": [
    {
     "name": "stdout",
     "output_type": "stream",
     "text": [
      "\n",
      "\n",
      "\u001b[1m> Entering new AgentExecutor chain...\u001b[0m\n",
      "\u001b[32;1m\u001b[1;3mAction:\n",
      "```\n",
      "{\n",
      "  \"action\": \"UW CSE Lookup\",\n",
      "  \"action_input\": \"CSE courses jointly offered with EE\"\n",
      "}\n",
      "``` \n",
      "\u001b[0m\n",
      "Observation: \u001b[38;5;200m\u001b[1;3mThere is no relevant text in the given portion of the document that mentions CSE courses jointly offered with EE.\u001b[0m\n",
      "\u001b[32;1m\u001b[1;3m\u001b[0m\n",
      "\n",
      "\u001b[1m> Finished chain.\u001b[0m\n"
     ]
    },
    {
     "data": {
      "text/plain": [
       "'There is no relevant text in the given portion of the document that mentions CSE courses jointly offered with EE.'"
      ]
     },
     "execution_count": 25,
     "metadata": {},
     "output_type": "execute_result"
    }
   ],
   "source": [
    "class Chatbot:\n",
    "    def __init__(self, template=TEMPLATE, qa_chain=qa_chain):\n",
    "        self.template = template\n",
    "        self.prompt = PromptTemplate(\n",
    "            input_variables=[\"tool_names\", \"ai_prefix\",\n",
    "                             \"chat_history\", \"agent_scratchpad\", \"input\"],\n",
    "            template=self.template)\n",
    "        self.memory = ConversationBufferMemory()\n",
    "        self.llm = ChatOpenAI(\n",
    "            openai_api_key=OPENAI_API_KEY,\n",
    "            temperature=0,\n",
    "            model_name='gpt-3.5-turbo')\n",
    "        self.tools = load_tools([\n",
    "            'wikipedia',\n",
    "            'llm-math',\n",
    "            'python_repl',\n",
    "            'wolfram-alpha',\n",
    "            'terminal',\n",
    "            'news-api',\n",
    "            'openweathermap-api'\n",
    "        ],\n",
    "            llm=self.llm,\n",
    "            news_api_key=NEWS_API_KEY,\n",
    "            openweathermap_api_key=WEATHER_API_KEY,\n",
    "            wolfram_alpha_appid=WOLFRAM_ALPHA_APPID,\n",
    "            google_cse_id=GOOGLE_CSE_ID,\n",
    "            google_api_key=GOOGLE_API_KEY)\n",
    "        # load_tools() is not compatible with custom tools\n",
    "        self.tools = self.tools + [Tool(\n",
    "                name=\"UW CSE Lookup\",\n",
    "                func=qa_chain.run,\n",
    "                description=(\"use this tool when you need to answer questions \"\n",
    "                             \"about the UW CSE course catalog \"\n",
    "                             \"or CSE courses in general \"),\n",
    "                return_direct=True # add return_direct=True if you want to return the Tool response rather than the agent response\n",
    "            )]\n",
    "        self.agent = initialize_agent(\n",
    "            self.tools,\n",
    "            self.llm,\n",
    "            agent=AgentType.STRUCTURED_CHAT_ZERO_SHOT_REACT_DESCRIPTION,\n",
    "            verbose=True,\n",
    "            memory=self.memory,\n",
    "            prompt=self.prompt)\n",
    "\n",
    "    def respond(self, user_prompt):\n",
    "        return self.agent.run(input=user_prompt)\n",
    "\n",
    "chatbot = Chatbot()\n",
    "chatbot.respond(\"Do you know any course in CSE that offers jointly with E E ?\")"
   ]
  },
  {
   "cell_type": "code",
   "execution_count": 26,
   "id": "7df9797f",
   "metadata": {},
   "outputs": [
    {
     "name": "stdout",
     "output_type": "stream",
     "text": [
      "\n",
      "\n",
      "\u001b[1m> Entering new AgentExecutor chain...\u001b[0m\n",
      "\u001b[32;1m\u001b[1;3mAction:\n",
      "```\n",
      "{\n",
      "  \"action\": \"UW CSE Lookup\",\n",
      "  \"action_input\": \"What CSE courses are jointly offered with EE?\"\n",
      "}\n",
      "``` \n",
      "\u001b[0m\n",
      "Observation: \u001b[38;5;200m\u001b[1;3mAccording to the given information, only CSE 561: Computer Communications And Networks is jointly offered with EE.\u001b[0m\n",
      "\u001b[32;1m\u001b[1;3m\u001b[0m\n",
      "\n",
      "\u001b[1m> Finished chain.\u001b[0m\n"
     ]
    },
    {
     "data": {
      "text/plain": [
       "'According to the given information, only CSE 561: Computer Communications And Networks is jointly offered with EE.'"
      ]
     },
     "execution_count": 26,
     "metadata": {},
     "output_type": "execute_result"
    }
   ],
   "source": [
    "class Chatbot:\n",
    "    def __init__(self, template=TEMPLATE, qa_chain=qa_chain):\n",
    "        self.template = template\n",
    "        self.prompt = PromptTemplate(\n",
    "            input_variables=[\"tool_names\", \"ai_prefix\",\n",
    "                             \"chat_history\", \"agent_scratchpad\", \"input\"],\n",
    "            template=self.template)\n",
    "        self.memory = ConversationBufferMemory()\n",
    "        self.llm = ChatOpenAI(\n",
    "            openai_api_key=OPENAI_API_KEY,\n",
    "            temperature=0,\n",
    "            model_name='gpt-3.5-turbo')\n",
    "        self.tools = load_tools([\n",
    "            'wikipedia',\n",
    "            'llm-math',\n",
    "            'python_repl',\n",
    "            'wolfram-alpha',\n",
    "            'terminal',\n",
    "            'news-api',\n",
    "            'openweathermap-api'\n",
    "        ],\n",
    "            llm=self.llm,\n",
    "            news_api_key=NEWS_API_KEY,\n",
    "            openweathermap_api_key=WEATHER_API_KEY,\n",
    "            wolfram_alpha_appid=WOLFRAM_ALPHA_APPID,\n",
    "            google_cse_id=GOOGLE_CSE_ID,\n",
    "            google_api_key=GOOGLE_API_KEY)\n",
    "        # load_tools() is not compatible with custom tools\n",
    "        self.tools = self.tools + [Tool(\n",
    "                name=\"UW CSE Lookup\",\n",
    "                func=qa_chain.run,\n",
    "                description=(\"use this tool when you need to answer questions \"\n",
    "                             \"about the UW CSE course catalog \"\n",
    "                             \"or CSE courses in general \"\n",
    "                             \"input should be a fully formed question\"), ## !!! see how this line impacts\n",
    "                              # \"action_input\" by the agent\n",
    "                return_direct=True # add return_direct=True if you want to return the Tool response rather\n",
    "                 # than the agent response\n",
    "            )]\n",
    "        self.agent = initialize_agent(\n",
    "            self.tools,\n",
    "            self.llm,\n",
    "            agent=AgentType.STRUCTURED_CHAT_ZERO_SHOT_REACT_DESCRIPTION,\n",
    "            verbose=True,\n",
    "            memory=self.memory,\n",
    "            prompt=self.prompt)\n",
    "\n",
    "    def respond(self, user_prompt):\n",
    "        return self.agent.run(input=user_prompt)\n",
    "\n",
    "chatbot = Chatbot()\n",
    "chatbot.respond(\"Do you know any course in CSE that offers jointly with E E ?\")"
   ]
  },
  {
   "cell_type": "markdown",
   "id": "c1bceea0",
   "metadata": {},
   "source": [
    "Obviously this answer is incorrect, but notice how the Agent passed a fully formed question to the Tool rather than a statement. It may seem inconsequential, but when natural language governs all the application logic then phrasing can really matter."
   ]
  },
  {
   "cell_type": "markdown",
   "id": "66b59702",
   "metadata": {},
   "source": [
    "# Tool Demonstrations\n",
    "Below we will highlight some of the available Tools from the langchain library. \n",
    "\n",
    "## Wikipedia\n"
   ]
  },
  {
   "cell_type": "code",
   "execution_count": 27,
   "id": "5dd44253",
   "metadata": {},
   "outputs": [
    {
     "name": "stdout",
     "output_type": "stream",
     "text": [
      "\n",
      "\n",
      "\u001b[1m> Entering new AgentExecutor chain...\u001b[0m\n",
      "\u001b[32;1m\u001b[1;3mAction:\n",
      "```\n",
      "{\n",
      "  \"action\": \"Wikipedia\",\n",
      "  \"action_input\": \"Moon\"\n",
      "}\n",
      "```\n",
      "\u001b[0m"
     ]
    },
    {
     "name": "stderr",
     "output_type": "stream",
     "text": [
      "/home/master/anaconda3/lib/python3.9/site-packages/wikipedia/wikipedia.py:389: GuessedAtParserWarning: No parser was explicitly specified, so I'm using the best available HTML parser for this system (\"lxml\"). This usually isn't a problem, but if you run this code on another system, or in a different virtual environment, it may use a different parser and behave differently.\n",
      "\n",
      "The code that caused this warning is on line 389 of the file /home/master/anaconda3/lib/python3.9/site-packages/wikipedia/wikipedia.py. To get rid of this warning, pass the additional argument 'features=\"lxml\"' to the BeautifulSoup constructor.\n",
      "\n",
      "  lis = BeautifulSoup(html).find_all('li')\n"
     ]
    },
    {
     "name": "stdout",
     "output_type": "stream",
     "text": [
      "\n",
      "Observation: \u001b[36;1m\u001b[1;3mPage: Moon\n",
      "Summary: The Moon is Earth's only natural satellite. Its diameter is about one-quarter of Earth's (comparable to the width of Australia), making it the fifth largest satellite in the Solar System and the largest and most massive relative to its parent planet. It is larger than all known dwarf planets in the Solar System. The Moon is a planetary-mass object with a differentiated rocky body, making it a satellite planet under the geophysical definitions of the term. It lacks any significant atmosphere, hydrosphere, or magnetic field. Its surface gravity is about one-sixth of Earth's at 0.1654 g—Jupiter's moon Io is the only satellite in the Solar System known to have a higher surface gravity and density.\n",
      "The Moon orbits Earth at an average distance of 384,400 km (238,900 mi), or about 30 times Earth's diameter. Its gravitational influence is the main driver of Earth's tides and very slowly lengthens Earth's day. The Moon's orbit around Earth has a sidereal period of 27.3 days. During each synodic period of 29.5 days, the amount of visible surface illuminated by the Sun varies from none up to 100%, resulting in lunar phases that form the basis for the months of a lunar calendar. The Moon is tidally locked to Earth, which means that the length of a full rotation of the Moon on its own axis causes its same side (the near side) to always face Earth, and the somewhat longer lunar day is the same as the synodic period. Due to cyclical shifts in perspective (libration), 59% of the lunar surface is visible from Earth.\n",
      "The most widely accepted origin explanation posits that the Moon formed 4.51 billion years ago, not long after Earth, out of the debris from a giant impact between the planet and a hypothesized Mars-sized body called Theia. It then receded to a wider orbit because of tidal interaction with the Earth. The near side of the Moon is marked by dark volcanic maria (\"seas\"), which fill the spaces between bright ancient crustal highlands and prominent impact craters. Most of the large impact basins and mare surfaces were in place by the end of the Imbrian period, some three billion years ago. The lunar surface is fairly non-reflective, with the reflectance of lunar soil being comparable to that of asphalt. However, due to its large angular diameter, the full moon is the brightest celestial object in the night sky. The Moon's apparent size is nearly the same as that of the Sun, allowing it to cover the Sun almost completely during a total solar eclipse.\n",
      "Both the Moon's prominence in Earth's sky and its regular cycle of phases have provided cultural references and influences for human societies throughout history. Such influences can be found in language, calendar systems, art, and mythology. The first artificial object to reach the Moon was the Soviet Union's uncrewed Luna 2 spacecraft in 1959; this was followed by the first successful soft landing by Luna 9 in 1966. The only human lunar missions to date have been those of the United States' Apollo program, which landed twelve men on the surface between 1969 and 1972. These and later uncrewed missions returned lunar rocks that have been used to develop a detailed geological understanding of the Moon's origins, internal structure, and subsequent history. The Moon is the only celestial body visited by humans.\n",
      "\n",
      "Page: Moon Moon Sen\n",
      "Summary: Moon Moon Sen, also credited as Moonmoon Sen (born Srimati Sen; 28 March 1954), is an Indian actress, known for her works in Hindi, Bengali, Malayalam, Kannada, Telugu, Tamil, and Marathi films. She eventually starred in Bollywood films. She has appeared in 60 films and 40 television series. She has received Andhra Pradesh state Nandi Award for Best Supporting Actress in 1987, for her role in the film Sirivennela.\u001b[0m\n",
      "Thought:\u001b[32;1m\u001b[1;3mThe previous action provided a good summary of the Moon. Is there anything else you would like to know about it?\u001b[0m\n",
      "\n",
      "\u001b[1m> Finished chain.\u001b[0m\n"
     ]
    },
    {
     "data": {
      "text/plain": [
       "'The previous action provided a good summary of the Moon. Is there anything else you would like to know about it?'"
      ]
     },
     "execution_count": 27,
     "metadata": {},
     "output_type": "execute_result"
    }
   ],
   "source": [
    "chatbot.respond(\"What can you tell me about the moon?\")"
   ]
  },
  {
   "cell_type": "markdown",
   "id": "560daeda",
   "metadata": {},
   "source": [
    "## Math\n"
   ]
  },
  {
   "cell_type": "code",
   "execution_count": 31,
   "id": "7dd3d4af",
   "metadata": {},
   "outputs": [
    {
     "name": "stdout",
     "output_type": "stream",
     "text": [
      "\n",
      "\n",
      "\u001b[1m> Entering new AgentExecutor chain...\u001b[0m\n",
      "\u001b[32;1m\u001b[1;3mAction:\n",
      "```\n",
      "{\n",
      "  \"action\": \"Calculator\",\n",
      "  \"action_input\": \"13 ** 0.3432\"\n",
      "}\n",
      "```\n",
      "\u001b[0m\n",
      "Observation: \u001b[33;1m\u001b[1;3mAnswer: 2.4116004626599237\u001b[0m\n",
      "Thought:\u001b[32;1m\u001b[1;3mThe previous answer was correct. I can return it as the final answer.\n",
      "Action:\n",
      "```\n",
      "{\n",
      "  \"action\": \"Final Answer\",\n",
      "  \"action_input\": \"2.4116004626599237\"\n",
      "}\n",
      "```\n",
      "\u001b[0m\n",
      "\n",
      "\u001b[1m> Finished chain.\u001b[0m\n"
     ]
    },
    {
     "data": {
      "text/plain": [
       "'2.4116004626599237'"
      ]
     },
     "execution_count": 31,
     "metadata": {},
     "output_type": "execute_result"
    }
   ],
   "source": [
    "chatbot.respond(\"What is 13 raised to the .3432 power?\")"
   ]
  },
  {
   "cell_type": "markdown",
   "id": "fc402298",
   "metadata": {},
   "source": [
    "## Python REPL\n"
   ]
  },
  {
   "cell_type": "code",
   "execution_count": 44,
   "id": "641e0e95",
   "metadata": {},
   "outputs": [
    {
     "name": "stdout",
     "output_type": "stream",
     "text": [
      "\n",
      "\n",
      "\u001b[1m> Entering new AgentExecutor chain...\u001b[0m\n",
      "\u001b[32;1m\u001b[1;3mAction:\n",
      "```\n",
      "{\n",
      "  \"action\": \"Python REPL\",\n",
      "  \"action_input\": \"print([x for x in range(10)])\"\n",
      "}\n",
      "```\n",
      "\u001b[0m\n",
      "Observation: \u001b[36;1m\u001b[1;3m[0, 1, 2, 3, 4, 5, 6, 7, 8, 9]\n",
      "\u001b[0m\n",
      "Thought:\u001b[32;1m\u001b[1;3mThe human might have follow-up questions about the output. I should ask if they need any further information.\n",
      "Action:\n",
      "```\n",
      "{\n",
      "  \"action\": \"Final Answer\",\n",
      "  \"action_input\": \"[0, 1, 2, 3, 4, 5, 6, 7, 8, 9]. Do you need any further information?\"\n",
      "}\n",
      "```\u001b[0m\n",
      "\n",
      "\u001b[1m> Finished chain.\u001b[0m\n"
     ]
    },
    {
     "data": {
      "text/plain": [
       "'[0, 1, 2, 3, 4, 5, 6, 7, 8, 9]. Do you need any further information?'"
      ]
     },
     "execution_count": 44,
     "metadata": {},
     "output_type": "execute_result"
    }
   ],
   "source": [
    "chatbot.respond(\"What is the output of print([x for x in range(10)])\")"
   ]
  },
  {
   "cell_type": "markdown",
   "id": "c7619724",
   "metadata": {},
   "source": [
    "## Wolfram Alpha\n"
   ]
  },
  {
   "cell_type": "code",
   "execution_count": 32,
   "id": "2ddad9fb",
   "metadata": {},
   "outputs": [
    {
     "name": "stdout",
     "output_type": "stream",
     "text": [
      "\n",
      "\n",
      "\u001b[1m> Entering new AgentExecutor chain...\u001b[0m\n",
      "\u001b[32;1m\u001b[1;3mAction:\n",
      "```\n",
      "{\n",
      "  \"action\": \"Wolfram Alpha\",\n",
      "  \"action_input\": \"2x+5=-3x+7\"\n",
      "}\n",
      "``` \n",
      "\u001b[0m\n",
      "Observation: \u001b[33;1m\u001b[1;3mAssumption: 2 x + 5 = -3 x + 7 \n",
      "Answer: x = 2/5\u001b[0m\n",
      "Thought:\u001b[32;1m\u001b[1;3mThe previous answer is correct. I can return it as the final answer.\n",
      "Action:\n",
      "```\n",
      "{\n",
      "  \"action\": \"Final Answer\",\n",
      "  \"action_input\": \"x = 2/5\"\n",
      "}\n",
      "``` \n",
      "\n",
      "\u001b[0m\n",
      "\n",
      "\u001b[1m> Finished chain.\u001b[0m\n"
     ]
    },
    {
     "data": {
      "text/plain": [
       "'x = 2/5'"
      ]
     },
     "execution_count": 32,
     "metadata": {},
     "output_type": "execute_result"
    }
   ],
   "source": [
    "chatbot.respond(\"What is 2x+5 = -3x + 7?\")"
   ]
  },
  {
   "cell_type": "markdown",
   "id": "f2fa0e64",
   "metadata": {},
   "source": [
    "## Terminal\n",
    "This one is experiencing a validation error that I was not able to workout, but you can see that it is legitimately interacting with my filesystem. Compare this `ls` to what you see in the repository!"
   ]
  },
  {
   "cell_type": "code",
   "execution_count": 52,
   "id": "1f3acd30",
   "metadata": {},
   "outputs": [
    {
     "name": "stdout",
     "output_type": "stream",
     "text": [
      "\n",
      "\n",
      "\u001b[1m> Entering new AgentExecutor chain...\u001b[0m\n",
      "\u001b[32;1m\u001b[1;3mAction:\n",
      "```\n",
      "{\n",
      "  \"action\": \"terminal\",\n",
      "  \"action_input\": {\n",
      "    \"commands\": [\"pwd\", \"ls\"]\n",
      "  }\n",
      "}\n",
      "```\n",
      "\u001b[0m\n",
      "Observation: \u001b[38;5;200m\u001b[1;3m/home/master/code/gballew\n",
      "api.py\n",
      "chatbot\n",
      "debugserver.py\n",
      "FINAL_DEMO.ipynb\n",
      "FINAL_REPORT.ipynb\n",
      "keys.py\n",
      "__pycache__\n",
      "README.md\n",
      "requirements.txt\n",
      "rtdocs\n",
      "rtdocs-create.ipynb\n",
      "rtdocs-query.ipynb\n",
      "rtdocs-vectordb\n",
      "\u001b[0m\n",
      "Thought:"
     ]
    },
    {
     "name": "stderr",
     "output_type": "stream",
     "text": [
      "/home/master/anaconda3/lib/python3.9/site-packages/langchain/tools/shell/tool.py:33: UserWarning: The shell tool has no safeguards by default. Use at your own risk.\n",
      "  warnings.warn(\n"
     ]
    },
    {
     "name": "stdout",
     "output_type": "stream",
     "text": [
      "\u001b[32;1m\u001b[1;3mYou asked for the output of the `pwd` and `ls` commands. The `pwd` command prints the current working directory, which is `/home/master/code/gballew`. The `ls` command lists the files and directories in the current directory, which are `api.py`, `chatbot`, `debugserver.py`, `FINAL_DEMO.ipynb`, `FINAL_REPORT.ipynb`, `keys.py`, `__pycache__`, `README.md`, `requirements.txt`, `rtdocs`, `rtdocs-create.ipynb`, `rtdocs-query.ipynb`, and `rtdocs-vectordb`.\n",
      "\n",
      "Action:\n",
      "```\n",
      "{\n",
      "  \"action\": \"Final Answer\",\n",
      "  \"action_input\": \"The output of the `pwd` command is `/home/master/code/gballew`. The output of the `ls` command is `api.py`, `chatbot`, `debugserver.py`, `FINAL_DEMO.ipynb`, `FINAL_REPORT.ipynb`, `keys.py`, `__pycache__`, `README.md`, `requirements.txt`, `rtdocs`, `rtdocs-create.ipynb`, `rtdocs-query.ipynb`, and `rtdocs-vectordb`.\"\n",
      "}\n",
      "```\n",
      "\n",
      "\u001b[0m\n",
      "\n",
      "\u001b[1m> Finished chain.\u001b[0m\n"
     ]
    },
    {
     "ename": "ValidationError",
     "evalue": "1 validation error for HumanMessage\ncontent\n  str type expected (type=type_error.str)",
     "output_type": "error",
     "traceback": [
      "\u001b[0;31m---------------------------------------------------------------------------\u001b[0m",
      "\u001b[0;31mValidationError\u001b[0m                           Traceback (most recent call last)",
      "\u001b[0;32m/tmp/ipykernel_30107/1160949200.py\u001b[0m in \u001b[0;36m<module>\u001b[0;34m\u001b[0m\n\u001b[0;32m----> 1\u001b[0;31m \u001b[0mchatbot\u001b[0m\u001b[0;34m.\u001b[0m\u001b[0mrespond\u001b[0m\u001b[0;34m(\u001b[0m\u001b[0;34m{\u001b[0m\u001b[0;34m\"commands\"\u001b[0m\u001b[0;34m:\u001b[0m \u001b[0;34m[\u001b[0m\u001b[0;34m\"pwd\"\u001b[0m\u001b[0;34m,\u001b[0m \u001b[0;34m\"ls\"\u001b[0m\u001b[0;34m]\u001b[0m\u001b[0;34m,\u001b[0m \u001b[0;34m\"query\"\u001b[0m\u001b[0;34m:\u001b[0m \u001b[0;34m\"what is the output of the following commands?\"\u001b[0m\u001b[0;34m}\u001b[0m\u001b[0;34m)\u001b[0m\u001b[0;34m\u001b[0m\u001b[0;34m\u001b[0m\u001b[0m\n\u001b[0m",
      "\u001b[0;32m/tmp/ipykernel_30107/2307542621.py\u001b[0m in \u001b[0;36mrespond\u001b[0;34m(self, user_prompt)\u001b[0m\n\u001b[1;32m     48\u001b[0m \u001b[0;34m\u001b[0m\u001b[0m\n\u001b[1;32m     49\u001b[0m     \u001b[0;32mdef\u001b[0m \u001b[0mrespond\u001b[0m\u001b[0;34m(\u001b[0m\u001b[0mself\u001b[0m\u001b[0;34m,\u001b[0m \u001b[0muser_prompt\u001b[0m\u001b[0;34m)\u001b[0m\u001b[0;34m:\u001b[0m\u001b[0;34m\u001b[0m\u001b[0;34m\u001b[0m\u001b[0m\n\u001b[0;32m---> 50\u001b[0;31m         \u001b[0;32mreturn\u001b[0m \u001b[0mself\u001b[0m\u001b[0;34m.\u001b[0m\u001b[0magent\u001b[0m\u001b[0;34m.\u001b[0m\u001b[0mrun\u001b[0m\u001b[0;34m(\u001b[0m\u001b[0minput\u001b[0m\u001b[0;34m=\u001b[0m\u001b[0muser_prompt\u001b[0m\u001b[0;34m)\u001b[0m\u001b[0;34m\u001b[0m\u001b[0;34m\u001b[0m\u001b[0m\n\u001b[0m\u001b[1;32m     51\u001b[0m \u001b[0;34m\u001b[0m\u001b[0m\n\u001b[1;32m     52\u001b[0m \u001b[0mchatbot\u001b[0m \u001b[0;34m=\u001b[0m \u001b[0mChatbot\u001b[0m\u001b[0;34m(\u001b[0m\u001b[0;34m)\u001b[0m\u001b[0;34m\u001b[0m\u001b[0;34m\u001b[0m\u001b[0m\n",
      "\u001b[0;32m~/anaconda3/lib/python3.9/site-packages/langchain/chains/base.py\u001b[0m in \u001b[0;36mrun\u001b[0;34m(self, callbacks, *args, **kwargs)\u001b[0m\n\u001b[1;32m    237\u001b[0m \u001b[0;34m\u001b[0m\u001b[0m\n\u001b[1;32m    238\u001b[0m         \u001b[0;32mif\u001b[0m \u001b[0mkwargs\u001b[0m \u001b[0;32mand\u001b[0m \u001b[0;32mnot\u001b[0m \u001b[0margs\u001b[0m\u001b[0;34m:\u001b[0m\u001b[0;34m\u001b[0m\u001b[0;34m\u001b[0m\u001b[0m\n\u001b[0;32m--> 239\u001b[0;31m             \u001b[0;32mreturn\u001b[0m \u001b[0mself\u001b[0m\u001b[0;34m(\u001b[0m\u001b[0mkwargs\u001b[0m\u001b[0;34m,\u001b[0m \u001b[0mcallbacks\u001b[0m\u001b[0;34m=\u001b[0m\u001b[0mcallbacks\u001b[0m\u001b[0;34m)\u001b[0m\u001b[0;34m[\u001b[0m\u001b[0mself\u001b[0m\u001b[0;34m.\u001b[0m\u001b[0moutput_keys\u001b[0m\u001b[0;34m[\u001b[0m\u001b[0;36m0\u001b[0m\u001b[0;34m]\u001b[0m\u001b[0;34m]\u001b[0m\u001b[0;34m\u001b[0m\u001b[0;34m\u001b[0m\u001b[0m\n\u001b[0m\u001b[1;32m    240\u001b[0m \u001b[0;34m\u001b[0m\u001b[0m\n\u001b[1;32m    241\u001b[0m         \u001b[0;32mif\u001b[0m \u001b[0;32mnot\u001b[0m \u001b[0mkwargs\u001b[0m \u001b[0;32mand\u001b[0m \u001b[0;32mnot\u001b[0m \u001b[0margs\u001b[0m\u001b[0;34m:\u001b[0m\u001b[0;34m\u001b[0m\u001b[0;34m\u001b[0m\u001b[0m\n",
      "\u001b[0;32m~/anaconda3/lib/python3.9/site-packages/langchain/chains/base.py\u001b[0m in \u001b[0;36m__call__\u001b[0;34m(self, inputs, return_only_outputs, callbacks)\u001b[0m\n\u001b[1;32m    140\u001b[0m             \u001b[0;32mraise\u001b[0m \u001b[0me\u001b[0m\u001b[0;34m\u001b[0m\u001b[0;34m\u001b[0m\u001b[0m\n\u001b[1;32m    141\u001b[0m         \u001b[0mrun_manager\u001b[0m\u001b[0;34m.\u001b[0m\u001b[0mon_chain_end\u001b[0m\u001b[0;34m(\u001b[0m\u001b[0moutputs\u001b[0m\u001b[0;34m)\u001b[0m\u001b[0;34m\u001b[0m\u001b[0;34m\u001b[0m\u001b[0m\n\u001b[0;32m--> 142\u001b[0;31m         \u001b[0;32mreturn\u001b[0m \u001b[0mself\u001b[0m\u001b[0;34m.\u001b[0m\u001b[0mprep_outputs\u001b[0m\u001b[0;34m(\u001b[0m\u001b[0minputs\u001b[0m\u001b[0;34m,\u001b[0m \u001b[0moutputs\u001b[0m\u001b[0;34m,\u001b[0m \u001b[0mreturn_only_outputs\u001b[0m\u001b[0;34m)\u001b[0m\u001b[0;34m\u001b[0m\u001b[0;34m\u001b[0m\u001b[0m\n\u001b[0m\u001b[1;32m    143\u001b[0m \u001b[0;34m\u001b[0m\u001b[0m\n\u001b[1;32m    144\u001b[0m     async def acall(\n",
      "\u001b[0;32m~/anaconda3/lib/python3.9/site-packages/langchain/chains/base.py\u001b[0m in \u001b[0;36mprep_outputs\u001b[0;34m(self, inputs, outputs, return_only_outputs)\u001b[0m\n\u001b[1;32m    189\u001b[0m         \u001b[0mself\u001b[0m\u001b[0;34m.\u001b[0m\u001b[0m_validate_outputs\u001b[0m\u001b[0;34m(\u001b[0m\u001b[0moutputs\u001b[0m\u001b[0;34m)\u001b[0m\u001b[0;34m\u001b[0m\u001b[0;34m\u001b[0m\u001b[0m\n\u001b[1;32m    190\u001b[0m         \u001b[0;32mif\u001b[0m \u001b[0mself\u001b[0m\u001b[0;34m.\u001b[0m\u001b[0mmemory\u001b[0m \u001b[0;32mis\u001b[0m \u001b[0;32mnot\u001b[0m \u001b[0;32mNone\u001b[0m\u001b[0;34m:\u001b[0m\u001b[0;34m\u001b[0m\u001b[0;34m\u001b[0m\u001b[0m\n\u001b[0;32m--> 191\u001b[0;31m             \u001b[0mself\u001b[0m\u001b[0;34m.\u001b[0m\u001b[0mmemory\u001b[0m\u001b[0;34m.\u001b[0m\u001b[0msave_context\u001b[0m\u001b[0;34m(\u001b[0m\u001b[0minputs\u001b[0m\u001b[0;34m,\u001b[0m \u001b[0moutputs\u001b[0m\u001b[0;34m)\u001b[0m\u001b[0;34m\u001b[0m\u001b[0;34m\u001b[0m\u001b[0m\n\u001b[0m\u001b[1;32m    192\u001b[0m         \u001b[0;32mif\u001b[0m \u001b[0mreturn_only_outputs\u001b[0m\u001b[0;34m:\u001b[0m\u001b[0;34m\u001b[0m\u001b[0;34m\u001b[0m\u001b[0m\n\u001b[1;32m    193\u001b[0m             \u001b[0;32mreturn\u001b[0m \u001b[0moutputs\u001b[0m\u001b[0;34m\u001b[0m\u001b[0;34m\u001b[0m\u001b[0m\n",
      "\u001b[0;32m~/anaconda3/lib/python3.9/site-packages/langchain/memory/chat_memory.py\u001b[0m in \u001b[0;36msave_context\u001b[0;34m(self, inputs, outputs)\u001b[0m\n\u001b[1;32m     33\u001b[0m         \u001b[0;34m\"\"\"Save context from this conversation to buffer.\"\"\"\u001b[0m\u001b[0;34m\u001b[0m\u001b[0;34m\u001b[0m\u001b[0m\n\u001b[1;32m     34\u001b[0m         \u001b[0minput_str\u001b[0m\u001b[0;34m,\u001b[0m \u001b[0moutput_str\u001b[0m \u001b[0;34m=\u001b[0m \u001b[0mself\u001b[0m\u001b[0;34m.\u001b[0m\u001b[0m_get_input_output\u001b[0m\u001b[0;34m(\u001b[0m\u001b[0minputs\u001b[0m\u001b[0;34m,\u001b[0m \u001b[0moutputs\u001b[0m\u001b[0;34m)\u001b[0m\u001b[0;34m\u001b[0m\u001b[0;34m\u001b[0m\u001b[0m\n\u001b[0;32m---> 35\u001b[0;31m         \u001b[0mself\u001b[0m\u001b[0;34m.\u001b[0m\u001b[0mchat_memory\u001b[0m\u001b[0;34m.\u001b[0m\u001b[0madd_user_message\u001b[0m\u001b[0;34m(\u001b[0m\u001b[0minput_str\u001b[0m\u001b[0;34m)\u001b[0m\u001b[0;34m\u001b[0m\u001b[0;34m\u001b[0m\u001b[0m\n\u001b[0m\u001b[1;32m     36\u001b[0m         \u001b[0mself\u001b[0m\u001b[0;34m.\u001b[0m\u001b[0mchat_memory\u001b[0m\u001b[0;34m.\u001b[0m\u001b[0madd_ai_message\u001b[0m\u001b[0;34m(\u001b[0m\u001b[0moutput_str\u001b[0m\u001b[0;34m)\u001b[0m\u001b[0;34m\u001b[0m\u001b[0;34m\u001b[0m\u001b[0m\n\u001b[1;32m     37\u001b[0m \u001b[0;34m\u001b[0m\u001b[0m\n",
      "\u001b[0;32m~/anaconda3/lib/python3.9/site-packages/langchain/schema.py\u001b[0m in \u001b[0;36madd_user_message\u001b[0;34m(self, message)\u001b[0m\n\u001b[1;32m    249\u001b[0m     \u001b[0;32mdef\u001b[0m \u001b[0madd_user_message\u001b[0m\u001b[0;34m(\u001b[0m\u001b[0mself\u001b[0m\u001b[0;34m,\u001b[0m \u001b[0mmessage\u001b[0m\u001b[0;34m:\u001b[0m \u001b[0mstr\u001b[0m\u001b[0;34m)\u001b[0m \u001b[0;34m->\u001b[0m \u001b[0;32mNone\u001b[0m\u001b[0;34m:\u001b[0m\u001b[0;34m\u001b[0m\u001b[0;34m\u001b[0m\u001b[0m\n\u001b[1;32m    250\u001b[0m         \u001b[0;34m\"\"\"Add a user message to the store\"\"\"\u001b[0m\u001b[0;34m\u001b[0m\u001b[0;34m\u001b[0m\u001b[0m\n\u001b[0;32m--> 251\u001b[0;31m         \u001b[0mself\u001b[0m\u001b[0;34m.\u001b[0m\u001b[0madd_message\u001b[0m\u001b[0;34m(\u001b[0m\u001b[0mHumanMessage\u001b[0m\u001b[0;34m(\u001b[0m\u001b[0mcontent\u001b[0m\u001b[0;34m=\u001b[0m\u001b[0mmessage\u001b[0m\u001b[0;34m)\u001b[0m\u001b[0;34m)\u001b[0m\u001b[0;34m\u001b[0m\u001b[0;34m\u001b[0m\u001b[0m\n\u001b[0m\u001b[1;32m    252\u001b[0m \u001b[0;34m\u001b[0m\u001b[0m\n\u001b[1;32m    253\u001b[0m     \u001b[0;32mdef\u001b[0m \u001b[0madd_ai_message\u001b[0m\u001b[0;34m(\u001b[0m\u001b[0mself\u001b[0m\u001b[0;34m,\u001b[0m \u001b[0mmessage\u001b[0m\u001b[0;34m:\u001b[0m \u001b[0mstr\u001b[0m\u001b[0;34m)\u001b[0m \u001b[0;34m->\u001b[0m \u001b[0;32mNone\u001b[0m\u001b[0;34m:\u001b[0m\u001b[0;34m\u001b[0m\u001b[0;34m\u001b[0m\u001b[0m\n",
      "\u001b[0;32m~/anaconda3/lib/python3.9/site-packages/pydantic/main.cpython-39-x86_64-linux-gnu.so\u001b[0m in \u001b[0;36mpydantic.main.BaseModel.__init__\u001b[0;34m()\u001b[0m\n",
      "\u001b[0;31mValidationError\u001b[0m: 1 validation error for HumanMessage\ncontent\n  str type expected (type=type_error.str)"
     ]
    }
   ],
   "source": [
    "chatbot.respond({\"commands\": [\"pwd\", \"ls\"], \"query\": \"what is the output of the following commands?\"})"
   ]
  },
  {
   "cell_type": "markdown",
   "id": "c52968d0",
   "metadata": {},
   "source": [
    "## News API\n",
    "\n",
    "Check out how the Agent refines its query interaction with the Tool!"
   ]
  },
  {
   "cell_type": "code",
   "execution_count": 53,
   "id": "6462c6f1",
   "metadata": {},
   "outputs": [
    {
     "name": "stdout",
     "output_type": "stream",
     "text": [
      "\n",
      "\n",
      "\u001b[1m> Entering new AgentExecutor chain...\u001b[0m\n",
      "\u001b[32;1m\u001b[1;3mAction:\n",
      "```\n",
      "{\n",
      "  \"action\": \"News API\",\n",
      "  \"action_input\": \"What are the top headlines today?\"\n",
      "}\n",
      "``` \n",
      "\u001b[0m\n",
      "Observation: \u001b[36;1m\u001b[1;3mThe API call was unsuccessful because required parameters are missing. The necessary parameters are sources, q, language, country, and category.\u001b[0m\n",
      "Thought:\u001b[32;1m\u001b[1;3mLet me modify the previous action to include the necessary parameters.\n",
      "Action:\n",
      "```\n",
      "{\n",
      "  \"action\": \"News API\",\n",
      "  \"action_input\": \"What are the top headlines today from USA?\"\n",
      "}\n",
      "``` \n",
      "\n",
      "\u001b[0m\n",
      "Observation: \u001b[36;1m\u001b[1;3mThe top headlines today from the USA are about Apple unveiling their new augmented-reality headset called the Apple Vision Pro at their annual software developer conference. The headset will retail for $3,499 and will be available early next year on Apple's website. The response also includes a link to a live blog for updates on WWDC 2023.\u001b[0m\n",
      "Thought:\u001b[32;1m\u001b[1;3mThe response seems accurate and helpful. I can return it as the final answer.\n",
      "Action:\n",
      "```\n",
      "{\n",
      "  \"action\": \"Final Answer\",\n",
      "  \"action_input\": \"The top headlines today from the USA are about Apple unveiling their new augmented-reality headset called the Apple Vision Pro at their annual software developer conference. The headset will retail for $3,499 and will be available early next year on Apple's website. You can follow a live blog for updates on WWDC 2023 at https://www.cnn.com/business/live-news/apple-wwdc-2023-june-5/index.html\"\n",
      "}\n",
      "``` \n",
      "\n",
      "\u001b[0m\n",
      "\n",
      "\u001b[1m> Finished chain.\u001b[0m\n"
     ]
    },
    {
     "data": {
      "text/plain": [
       "\"The top headlines today from the USA are about Apple unveiling their new augmented-reality headset called the Apple Vision Pro at their annual software developer conference. The headset will retail for $3,499 and will be available early next year on Apple's website. You can follow a live blog for updates on WWDC 2023 at https://www.cnn.com/business/live-news/apple-wwdc-2023-june-5/index.html\""
      ]
     },
     "execution_count": 53,
     "metadata": {},
     "output_type": "execute_result"
    }
   ],
   "source": [
    "chatbot.respond(\"What are the top headlines today?\")"
   ]
  },
  {
   "cell_type": "markdown",
   "id": "92421579",
   "metadata": {},
   "source": [
    "## OpenWeatherMap API\n"
   ]
  },
  {
   "cell_type": "code",
   "execution_count": 57,
   "id": "40a3c344",
   "metadata": {},
   "outputs": [
    {
     "name": "stdout",
     "output_type": "stream",
     "text": [
      "\n",
      "\n",
      "\u001b[1m> Entering new AgentExecutor chain...\u001b[0m\n",
      "\u001b[32;1m\u001b[1;3mAction:\n",
      "```\n",
      "{\n",
      "  \"action\": \"OpenWeatherMap\",\n",
      "  \"action_input\": {\n",
      "    \"location\": \"London,GB\"\n",
      "  }\n",
      "}\n",
      "``` \n",
      "\u001b[0m\n",
      "Observation: \u001b[33;1m\u001b[1;3mIn London,GB, the current weather is as follows:\n",
      "Detailed status: broken clouds\n",
      "Wind speed: 3.6 m/s, direction: 0°\n",
      "Humidity: 74%\n",
      "Temperature: \n",
      "  - Current: 12.8°C\n",
      "  - High: 13.47°C\n",
      "  - Low: 11.49°C\n",
      "  - Feels like: 12.07°C\n",
      "Rain: {}\n",
      "Heat index: None\n",
      "Cloud cover: 75%\u001b[0m\n",
      "Thought:\u001b[32;1m\u001b[1;3mThe weather in London is currently broken clouds with a temperature of 12.8°C and a humidity of 74%. \n",
      "Action:\n",
      "```\n",
      "{\n",
      "  \"action\": \"Final Answer\",\n",
      "  \"action_input\": \"The weather in London is currently broken clouds with a temperature of 12.8°C and a humidity of 74%.\"\n",
      "}\n",
      "```\n",
      "\u001b[0m\n",
      "\n",
      "\u001b[1m> Finished chain.\u001b[0m\n"
     ]
    },
    {
     "data": {
      "text/plain": [
       "'The weather in London is currently broken clouds with a temperature of 12.8°C and a humidity of 74%.'"
      ]
     },
     "execution_count": 57,
     "metadata": {},
     "output_type": "execute_result"
    }
   ],
   "source": [
    "chatbot.respond(\"What's the weather like in London today?\")"
   ]
  },
  {
   "cell_type": "markdown",
   "id": "71ff0797",
   "metadata": {},
   "source": [
    "## UW CSE Lookup\n",
    "This one is a custom tool, but let's use it one more time for good measure! "
   ]
  },
  {
   "cell_type": "code",
   "execution_count": 80,
   "id": "f8621c0c",
   "metadata": {},
   "outputs": [
    {
     "name": "stdout",
     "output_type": "stream",
     "text": [
      "\n",
      "\n",
      "\u001b[1m> Entering new AgentExecutor chain...\u001b[0m\n",
      "\u001b[32;1m\u001b[1;3mAction:\n",
      "```\n",
      "{\n",
      "  \"action\": \"UW CSE Lookup\",\n",
      "  \"action_input\": \"What are the classes that can be taken after CSE 142?\"\n",
      "}\n",
      "``` \n",
      "\u001b[0m\n",
      "Observation: \u001b[38;5;200m\u001b[1;3mAccording to the given portions of the document, the classes that can be taken after CSE 142 are CSE 143: Computer Programming II, CSE 154: Web Programming, CSE 163: Intermediate Data Programming, CSE 180: Introduction to Data Science, CSE 190a: Women in CSE Seminar, CSE 190b: Direct Admission Seminar, CSE 311: Foundations Of Computing I, CSE 331: Software Design And Implementation, CSE 332: Data Structures and Parallelism, CSE 333: Systems Programming, CSE 340: Interaction Programming, and CSE 341: Programming Languages.\u001b[0m\n",
      "\u001b[32;1m\u001b[1;3m\u001b[0m\n",
      "\n",
      "\u001b[1m> Finished chain.\u001b[0m\n"
     ]
    },
    {
     "data": {
      "text/plain": [
       "'According to the given portions of the document, the classes that can be taken after CSE 142 are CSE 143: Computer Programming II, CSE 154: Web Programming, CSE 163: Intermediate Data Programming, CSE 180: Introduction to Data Science, CSE 190a: Women in CSE Seminar, CSE 190b: Direct Admission Seminar, CSE 311: Foundations Of Computing I, CSE 331: Software Design And Implementation, CSE 332: Data Structures and Parallelism, CSE 333: Systems Programming, CSE 340: Interaction Programming, and CSE 341: Programming Languages.'"
      ]
     },
     "execution_count": 80,
     "metadata": {},
     "output_type": "execute_result"
    }
   ],
   "source": [
    "chatbot.respond(\"What classes can I take after CSE 142?\")"
   ]
  },
  {
   "cell_type": "code",
   "execution_count": 81,
   "id": "e6a74e58",
   "metadata": {},
   "outputs": [
    {
     "name": "stdout",
     "output_type": "stream",
     "text": [
      "\n",
      "\n",
      "\u001b[1m> Entering new AgentExecutor chain...\u001b[0m\n",
      "\u001b[32;1m\u001b[1;3mAction:\n",
      "```\n",
      "{\n",
      "  \"action\": \"UW CSE Lookup\",\n",
      "  \"action_input\": \"What classes have CSE 142 as a prerequisite?\"\n",
      "}\n",
      "``` \n",
      "\u001b[0m\n",
      "Observation: \u001b[38;5;200m\u001b[1;3mAccording to the given portion of the document, the following classes have CSE 142 as a prerequisite: CSE 143: Computer Programming II, CSE 163: Intermediate Data Programming, CSE 190a: Women in CSE Seminar, CSE 131: Science and Art of Digital Photography, CSE 154: Web Development and Data, and CSE 390: Special Topics in Computer Science and Engineering.\u001b[0m\n",
      "\u001b[32;1m\u001b[1;3m\u001b[0m\n",
      "\n",
      "\u001b[1m> Finished chain.\u001b[0m\n"
     ]
    },
    {
     "data": {
      "text/plain": [
       "'According to the given portion of the document, the following classes have CSE 142 as a prerequisite: CSE 143: Computer Programming II, CSE 163: Intermediate Data Programming, CSE 190a: Women in CSE Seminar, CSE 131: Science and Art of Digital Photography, CSE 154: Web Development and Data, and CSE 390: Special Topics in Computer Science and Engineering.'"
      ]
     },
     "execution_count": 81,
     "metadata": {},
     "output_type": "execute_result"
    }
   ],
   "source": [
    "chatbot.respond(\"What classes have CSE 142 as a prerequisite?\")"
   ]
  },
  {
   "cell_type": "code",
   "execution_count": 82,
   "id": "5615dc3b",
   "metadata": {},
   "outputs": [
    {
     "name": "stdout",
     "output_type": "stream",
     "text": [
      "\n",
      "\n",
      "\u001b[1m> Entering new AgentExecutor chain...\u001b[0m\n",
      "\u001b[32;1m\u001b[1;3mAction:\n",
      "```\n",
      "{\n",
      "  \"action\": \"UW CSE Lookup\",\n",
      "  \"action_input\": \"What is the course content of CSE 142?\"\n",
      "}\n",
      "```\n",
      "\u001b[0m"
     ]
    },
    {
     "name": "stderr",
     "output_type": "stream",
     "text": [
      "Retrying langchain.chat_models.openai.ChatOpenAI.completion_with_retry.<locals>._completion_with_retry in 1.0 seconds as it raised RateLimitError: That model is currently overloaded with other requests. You can retry your request, or contact us through our help center at help.openai.com if the error persists. (Please include the request ID c9dc48227e613091558559696a8a338e in your message.).\n"
     ]
    },
    {
     "name": "stdout",
     "output_type": "stream",
     "text": [
      "\n",
      "Observation: \u001b[38;5;200m\u001b[1;3mThe course content of CSE 142 includes basic programming-in-the-small abilities and concepts including procedural programming (methods, parameters, return, values), basic control structures (sequence, if/else, for loop, while loop), file processing, arrays, and an introduction to defining objects. It is intended for students without prior programming experience.\u001b[0m\n",
      "\u001b[32;1m\u001b[1;3m\u001b[0m\n",
      "\n",
      "\u001b[1m> Finished chain.\u001b[0m\n"
     ]
    },
    {
     "data": {
      "text/plain": [
       "'The course content of CSE 142 includes basic programming-in-the-small abilities and concepts including procedural programming (methods, parameters, return, values), basic control structures (sequence, if/else, for loop, while loop), file processing, arrays, and an introduction to defining objects. It is intended for students without prior programming experience.'"
      ]
     },
     "execution_count": 82,
     "metadata": {},
     "output_type": "execute_result"
    }
   ],
   "source": [
    "chatbot.respond(\"What is CSE 142 about?\")"
   ]
  },
  {
   "cell_type": "code",
   "execution_count": 61,
   "id": "db0c0884",
   "metadata": {},
   "outputs": [
    {
     "name": "stdout",
     "output_type": "stream",
     "text": [
      "\n",
      "\n",
      "\u001b[1m> Entering new AgentExecutor chain...\u001b[0m\n",
      "\u001b[32;1m\u001b[1;3mAction:\n",
      "```\n",
      "{\n",
      "  \"action\": \"UW CSE Lookup\",\n",
      "  \"action_input\": \"What is the course description for CSEP 546?\"\n",
      "}\n",
      "``` \n",
      "\u001b[0m\n",
      "Observation: \u001b[38;5;200m\u001b[1;3mThe course description for CSEP 546 is: \"Methods for designing systems that learn from data and improve with experience. Supervised learning and predictive modeling; decision trees, rule induction, nearest neighbors, Bayesian methods, neural networks, support vector machines, and model ensembles. Unsupervised learning and clustering. Prerequisite: CSE PMP majors only.\"\u001b[0m\n",
      "\u001b[32;1m\u001b[1;3m\u001b[0m\n",
      "\n",
      "\u001b[1m> Finished chain.\u001b[0m\n"
     ]
    },
    {
     "data": {
      "text/plain": [
       "'The course description for CSEP 546 is: \"Methods for designing systems that learn from data and improve with experience. Supervised learning and predictive modeling; decision trees, rule induction, nearest neighbors, Bayesian methods, neural networks, support vector machines, and model ensembles. Unsupervised learning and clustering. Prerequisite: CSE PMP majors only.\"'"
      ]
     },
     "execution_count": 61,
     "metadata": {},
     "output_type": "execute_result"
    }
   ],
   "source": [
    "chatbot.respond(\"What is the course description for CSEP 546?\")"
   ]
  },
  {
   "cell_type": "code",
   "execution_count": 62,
   "id": "1675dfb1",
   "metadata": {},
   "outputs": [
    {
     "name": "stdout",
     "output_type": "stream",
     "text": [
      "\n",
      "\n",
      "\u001b[1m> Entering new AgentExecutor chain...\u001b[0m\n",
      "\u001b[32;1m\u001b[1;3mAction:\n",
      "```\n",
      "{\n",
      "  \"action\": \"UW CSE Lookup\",\n",
      "  \"action_input\": \"What is the course number for natural language processing?\"\n",
      "}\n",
      "``` \n",
      "\u001b[0m\n",
      "Observation: \u001b[38;5;200m\u001b[1;3mThe course number for natural language processing is either CSE 447, CSE 517, LING 472, or CSEP 517, depending on which part of the document is correct. There is conflicting information provided.\u001b[0m\n",
      "\u001b[32;1m\u001b[1;3m\u001b[0m\n",
      "\n",
      "\u001b[1m> Finished chain.\u001b[0m\n"
     ]
    },
    {
     "data": {
      "text/plain": [
       "'The course number for natural language processing is either CSE 447, CSE 517, LING 472, or CSEP 517, depending on which part of the document is correct. There is conflicting information provided.'"
      ]
     },
     "execution_count": 62,
     "metadata": {},
     "output_type": "execute_result"
    }
   ],
   "source": [
    "chatbot.respond(\"What is the course number for natural language processing?\")"
   ]
  },
  {
   "cell_type": "code",
   "execution_count": 63,
   "id": "9f18d8a6",
   "metadata": {},
   "outputs": [
    {
     "name": "stdout",
     "output_type": "stream",
     "text": [
      "\n",
      "\n",
      "\u001b[1m> Entering new AgentExecutor chain...\u001b[0m\n",
      "\u001b[32;1m\u001b[1;3mThought: I can use the UW CSE Lookup tool to answer this question.\n",
      "\n",
      "Action:\n",
      "```\n",
      "{\n",
      "  \"action\": \"UW CSE Lookup\",\n",
      "  \"action_input\": \"What 300 level Software Design classes are available at UW CSE?\"\n",
      "}\n",
      "```\n",
      "\n",
      "\u001b[0m"
     ]
    },
    {
     "name": "stderr",
     "output_type": "stream",
     "text": [
      "Retrying langchain.chat_models.openai.ChatOpenAI.completion_with_retry.<locals>._completion_with_retry in 1.0 seconds as it raised RateLimitError: That model is currently overloaded with other requests. You can retry your request, or contact us through our help center at help.openai.com if the error persists. (Please include the request ID 67c89cd14621ec6498f7a6da92840a1b in your message.).\n"
     ]
    },
    {
     "name": "stdout",
     "output_type": "stream",
     "text": [
      "\n",
      "Observation: \u001b[38;5;200m\u001b[1;3mAccording to the given portions of the document, there are three 300 level Software Design classes available at UW CSE: CSE 331: Software Design And Implementation, CSE 332: Data Structures and Parallelism, and CSE 333: Systems Programming.\u001b[0m\n",
      "\u001b[32;1m\u001b[1;3m\u001b[0m\n",
      "\n",
      "\u001b[1m> Finished chain.\u001b[0m\n"
     ]
    },
    {
     "data": {
      "text/plain": [
       "'According to the given portions of the document, there are three 300 level Software Design classes available at UW CSE: CSE 331: Software Design And Implementation, CSE 332: Data Structures and Parallelism, and CSE 333: Systems Programming.'"
      ]
     },
     "execution_count": 63,
     "metadata": {},
     "output_type": "execute_result"
    }
   ],
   "source": [
    "chatbot.respond(\"What 300 level Software Design class can I take?\")"
   ]
  },
  {
   "cell_type": "code",
   "execution_count": 64,
   "id": "4f269a8c",
   "metadata": {},
   "outputs": [
    {
     "name": "stdout",
     "output_type": "stream",
     "text": [
      "\n",
      "\n",
      "\u001b[1m> Entering new AgentExecutor chain...\u001b[0m\n",
      "\u001b[32;1m\u001b[1;3mAction:\n",
      "```\n",
      "{\n",
      "  \"action\": \"UW CSE Lookup\",\n",
      "  \"action_input\": \"What UW CSE courses cover software design?\"\n",
      "}\n",
      "``` \n",
      "\u001b[0m\n",
      "Observation: \u001b[38;5;200m\u001b[1;3mThe following UW CSE courses cover software design: CSE 481: Capstone Software Design, CSE 332, CSE 351, CSE 331, and CSE 352. Additionally, CSEP 503: Principles Of Software Engineering covers software design. CSE 331: Software Design And Implementation and CSE 504: Advanced Topics In Software Engineering also cover software design to some extent. It is possible that other courses may cover software design as well, but further information would be needed to confirm this.\u001b[0m\n",
      "\u001b[32;1m\u001b[1;3m\u001b[0m\n",
      "\n",
      "\u001b[1m> Finished chain.\u001b[0m\n"
     ]
    },
    {
     "data": {
      "text/plain": [
       "'The following UW CSE courses cover software design: CSE 481: Capstone Software Design, CSE 332, CSE 351, CSE 331, and CSE 352. Additionally, CSEP 503: Principles Of Software Engineering covers software design. CSE 331: Software Design And Implementation and CSE 504: Advanced Topics In Software Engineering also cover software design to some extent. It is possible that other courses may cover software design as well, but further information would be needed to confirm this.'"
      ]
     },
     "execution_count": 64,
     "metadata": {},
     "output_type": "execute_result"
    }
   ],
   "source": [
    "chatbot.respond(\"Are there any courses about software design?\")"
   ]
  },
  {
   "cell_type": "code",
   "execution_count": 65,
   "id": "707d38d1",
   "metadata": {},
   "outputs": [
    {
     "name": "stdout",
     "output_type": "stream",
     "text": [
      "\n",
      "\n",
      "\u001b[1m> Entering new AgentExecutor chain...\u001b[0m\n",
      "\u001b[32;1m\u001b[1;3mAction:\n",
      "```\n",
      "{\n",
      "  \"action\": \"UW CSE Lookup\",\n",
      "  \"action_input\": \"What class do I need to take to enroll in CSE 546?\"\n",
      "}\n",
      "``` \n",
      "\u001b[0m\n",
      "Observation: \u001b[38;5;200m\u001b[1;3mThere is no information in the given portion of the document about the class required to enroll in CSE 546.\u001b[0m\n",
      "\u001b[32;1m\u001b[1;3m\u001b[0m\n",
      "\n",
      "\u001b[1m> Finished chain.\u001b[0m\n"
     ]
    },
    {
     "data": {
      "text/plain": [
       "'There is no information in the given portion of the document about the class required to enroll in CSE 546.'"
      ]
     },
     "execution_count": 65,
     "metadata": {},
     "output_type": "execute_result"
    }
   ],
   "source": [
    "chatbot.respond(\"What class should I take if I want to take CSE 546?\")"
   ]
  },
  {
   "cell_type": "code",
   "execution_count": 66,
   "id": "f8c2de13",
   "metadata": {},
   "outputs": [
    {
     "name": "stdout",
     "output_type": "stream",
     "text": [
      "\n",
      "\n",
      "\u001b[1m> Entering new AgentExecutor chain...\u001b[0m\n",
      "\u001b[32;1m\u001b[1;3mAction:\n",
      "```\n",
      "{\n",
      "  \"action\": \"UW CSE Lookup\",\n",
      "  \"action_input\": \"What are the prerequisites for CSE 546?\"\n",
      "}\n",
      "``` \n",
      "\u001b[0m\n",
      "Observation: \u001b[38;5;200m\u001b[1;3mBased on the given portion of the document, the prerequisites for CSE 546 are either a minimum grade of 2.5 in MATH 098, a minimum grade of 3.0 in MATH 103, a score of 151-169 on the MPT-GS placement test, or score of 145-153 on the MPT-AS placement test.\u001b[0m\n",
      "\u001b[32;1m\u001b[1;3m\u001b[0m\n",
      "\n",
      "\u001b[1m> Finished chain.\u001b[0m\n"
     ]
    },
    {
     "data": {
      "text/plain": [
       "'Based on the given portion of the document, the prerequisites for CSE 546 are either a minimum grade of 2.5 in MATH 098, a minimum grade of 3.0 in MATH 103, a score of 151-169 on the MPT-GS placement test, or score of 145-153 on the MPT-AS placement test.'"
      ]
     },
     "execution_count": 66,
     "metadata": {},
     "output_type": "execute_result"
    }
   ],
   "source": [
    "chatbot.respond(\"What are the prerequisites for CSE 546?\")"
   ]
  },
  {
   "cell_type": "markdown",
   "id": "0a13db9a",
   "metadata": {},
   "source": [
    "Note here how the phrasing of the question directly impacts the result for the previous 2 queries. "
   ]
  },
  {
   "cell_type": "code",
   "execution_count": 67,
   "id": "3083d837",
   "metadata": {},
   "outputs": [
    {
     "name": "stdout",
     "output_type": "stream",
     "text": [
      "\n",
      "\n",
      "\u001b[1m> Entering new AgentExecutor chain...\u001b[0m\n",
      "\u001b[32;1m\u001b[1;3mAction:\n",
      "```\n",
      "{\n",
      "  \"action\": \"UW CSE Lookup\",\n",
      "  \"action_input\": \"What classes can I take after CSE 143 and CSE 351?\"\n",
      "}\n",
      "``` \n",
      "\u001b[0m\n",
      "Observation: \u001b[38;5;200m\u001b[1;3mAfter completing CSE 143 and CSE 351, you can take the following classes: \n",
      "- CSE 344: Introduction To Data Management\n",
      "- CSE 352: Hardware Design And Implementation\n",
      "- CSE 369: Introduction to Digital Design\n",
      "- CSE 373: Data Structures And Algorithms\n",
      "- CSE 374: Intermediate Programming Concepts And Tools\n",
      "- CSE 390a: System and Software Tools\u001b[0m\n",
      "\u001b[32;1m\u001b[1;3m\u001b[0m\n",
      "\n",
      "\u001b[1m> Finished chain.\u001b[0m\n"
     ]
    },
    {
     "data": {
      "text/plain": [
       "'After completing CSE 143 and CSE 351, you can take the following classes: \\n- CSE 344: Introduction To Data Management\\n- CSE 352: Hardware Design And Implementation\\n- CSE 369: Introduction to Digital Design\\n- CSE 373: Data Structures And Algorithms\\n- CSE 374: Intermediate Programming Concepts And Tools\\n- CSE 390a: System and Software Tools'"
      ]
     },
     "execution_count": 67,
     "metadata": {},
     "output_type": "execute_result"
    }
   ],
   "source": [
    "chatbot.respond(\"What class can I take after taking CSE 143 and CSE 351?\")"
   ]
  },
  {
   "cell_type": "code",
   "execution_count": 68,
   "id": "abc0e54f",
   "metadata": {},
   "outputs": [
    {
     "name": "stdout",
     "output_type": "stream",
     "text": [
      "\n",
      "\n",
      "\u001b[1m> Entering new AgentExecutor chain...\u001b[0m\n",
      "\u001b[32;1m\u001b[1;3mAction:\n",
      "```\n",
      "{\n",
      "  \"action\": \"UW CSE Lookup\",\n",
      "  \"action_input\": \"What is the course number for the professional masters version of Computer Vision?\"\n",
      "}\n",
      "``` \n",
      "\u001b[0m\n",
      "Observation: \u001b[38;5;200m\u001b[1;3mThe course number for the professional masters version of Computer Vision is CSEP 590.\u001b[0m\n",
      "\u001b[32;1m\u001b[1;3m\u001b[0m\n",
      "\n",
      "\u001b[1m> Finished chain.\u001b[0m\n"
     ]
    },
    {
     "data": {
      "text/plain": [
       "'The course number for the professional masters version of Computer Vision is CSEP 590.'"
      ]
     },
     "execution_count": 68,
     "metadata": {},
     "output_type": "execute_result"
    }
   ],
   "source": [
    "chatbot.respond(\"What's the course number for the professional masters version of Computer Vision?\")"
   ]
  },
  {
   "cell_type": "code",
   "execution_count": 69,
   "id": "7d82eca5",
   "metadata": {},
   "outputs": [
    {
     "name": "stdout",
     "output_type": "stream",
     "text": [
      "\n",
      "\n",
      "\u001b[1m> Entering new AgentExecutor chain...\u001b[0m\n",
      "\u001b[32;1m\u001b[1;3mAction:\n",
      "```\n",
      "{\n",
      "  \"action\": \"UW CSE Lookup\",\n",
      "  \"action_input\": \"What is the course ID for the professional master version of Computer Vision?\"\n",
      "}\n",
      "``` \n",
      "\u001b[0m"
     ]
    },
    {
     "name": "stderr",
     "output_type": "stream",
     "text": [
      "Retrying langchain.chat_models.openai.ChatOpenAI.completion_with_retry.<locals>._completion_with_retry in 1.0 seconds as it raised RateLimitError: That model is currently overloaded with other requests. You can retry your request, or contact us through our help center at help.openai.com if the error persists. (Please include the request ID e22b1368c37d8934e543101bf19f2f5c in your message.).\n"
     ]
    },
    {
     "name": "stdout",
     "output_type": "stream",
     "text": [
      "\n",
      "Observation: \u001b[38;5;200m\u001b[1;3mThe course ID for the professional master version of Computer Vision is CSEP 576.\u001b[0m\n",
      "\u001b[32;1m\u001b[1;3m\u001b[0m\n",
      "\n",
      "\u001b[1m> Finished chain.\u001b[0m\n"
     ]
    },
    {
     "data": {
      "text/plain": [
       "'The course ID for the professional master version of Computer Vision is CSEP 576.'"
      ]
     },
     "execution_count": 69,
     "metadata": {},
     "output_type": "execute_result"
    }
   ],
   "source": [
    "chatbot.respond(\"What's the course id of professional master version of Computer Vision?\")"
   ]
  },
  {
   "cell_type": "code",
   "execution_count": 70,
   "id": "7958977b",
   "metadata": {},
   "outputs": [
    {
     "name": "stdout",
     "output_type": "stream",
     "text": [
      "\n",
      "\n",
      "\u001b[1m> Entering new AgentExecutor chain...\u001b[0m\n",
      "\u001b[32;1m\u001b[1;3mAction:\n",
      "```\n",
      "{\n",
      "  \"action\": \"UW CSE Lookup\",\n",
      "  \"action_input\": \"What CSE courses are jointly offered with EE?\"\n",
      "}\n",
      "``` \n",
      "\u001b[0m\n",
      "Observation: \u001b[38;5;200m\u001b[1;3mAccording to the given information, only CSE 561: Computer Communications And Networks is jointly offered with EE.\u001b[0m\n",
      "\u001b[32;1m\u001b[1;3m\u001b[0m\n",
      "\n",
      "\u001b[1m> Finished chain.\u001b[0m\n"
     ]
    },
    {
     "data": {
      "text/plain": [
       "'According to the given information, only CSE 561: Computer Communications And Networks is jointly offered with EE.'"
      ]
     },
     "execution_count": 70,
     "metadata": {},
     "output_type": "execute_result"
    }
   ],
   "source": [
    "chatbot.respond(\"Do you know any course in CSE that offers jointly with E E ?\")"
   ]
  },
  {
   "cell_type": "markdown",
   "id": "1ba7f48b",
   "metadata": {},
   "source": [
    "# The Power of Agents\n",
    "\n",
    "Finally, let's highlight exactly how powerful Agents can be by dynamically creating a Chain using various tools at each step of the process."
   ]
  },
  {
   "cell_type": "code",
   "execution_count": 58,
   "id": "d4b888a6",
   "metadata": {},
   "outputs": [
    {
     "name": "stdout",
     "output_type": "stream",
     "text": [
      "\n",
      "\n",
      "\u001b[1m> Entering new AgentExecutor chain...\u001b[0m\n",
      "\u001b[32;1m\u001b[1;3mAction:\n",
      "```\n",
      "{\n",
      "  \"action\": \"Wikipedia\",\n",
      "  \"action_input\": \"President of France spouse\"\n",
      "}\n",
      "```\n",
      "\n",
      "\u001b[0m\n",
      "Observation: \u001b[36;1m\u001b[1;3mPage: List of spouses or partners of the president of France\n",
      "Summary: Spouses and partners of the president of France often play a protocol role at the Élysée Palace and during official visits, though they possess no official title. Brigitte Macron is the spouse of the current president, Emmanuel Macron, who took office on 14 May 2017.\n",
      "\n",
      "Page: President of the People's Republic of China\n",
      "Summary: The president of the People's Republic of China, commonly called the president of China, is the head of state and the second-highest political office of the People's Republic of China. The presidency on its own is a ceremonial office and has no real power in China's political system. However, the post has been held by the general secretary of the Chinese Communist Party and chairman of the Central Military Commission since 1993, who is China's de facto leader.\n",
      "The presidency is officially regarded as an institution of the state rather than an administrative post. Under the current constitution, the president serves at the pleasure of the National People's Congress (NPC), the legislature, and is not legally vested to take executive action on his own prerogative. The office was first established in the Constitution in 1954, with the official English-language translation of \"state chairman.\" It was successively held by Mao Zedong and Liu Shaoqi. Liu fell into political disgrace during the Cultural Revolution, after which the presidency became vacant. The post of chairman was abolished under the Constitution of 1975, then reinstated in the Constitution of 1982, but with reduced powers. Since 1982, the title's official English-language translation has been \"president\", although the Chinese title remains unchanged.Since China is a single-party communist state, the president is generally considered to hold the second-highest position in the political system, formally after the leader of the Chinese Communist Party. However, since 1993, apart from brief periods of transition, the paramount leader has simultaneously served as state president, Communist Party leader (as general secretary of the Chinese Communist Party (CCP)), and commander-in-chief of the military (as chairman of the Central Military Commission (CMC)). This individual then carries out different duties under separate titles. For example, the leader meets foreign dignitaries and receives ambassadors in his capacity as president, issues military directives as chairman of the CMC, and upholds party rule as general secretary of the CCP.\n",
      "During the Mao era, there were no term limits for the presidency. Between 1982 and 2018, the constitution stipulated that the president could not serve more than two consecutive terms. In 2018, term limits were abolished in order to align the presidency with the position of CCP general secretary, which does not have term limits. The current president is Xi Jinping, who took office in March 2013, replacing Hu Jintao. He was re-elected in March 2018 and March 2023.\n",
      "\n",
      "Page: Second ladies and gentlemen of the United States\n",
      "Summary: The second gentleman or  second lady of the United States (SGOTUS or SLOTUS respectively) is the informal title held by the spouse of the vice president of the United States, concurrent with the vice president's term of office. Coined in contrast to \"first lady\" – albeit used less commonly – the title \"second lady\" was apparently first used by Jennie Tuttle Hobart (wife of Garret Hobart, vice president 1897–1899) to refer to herself. Second gentleman of the United States is the title held by Doug Emhoff, the husband of Vice President Kamala Harris.Twelve second ladies have gone on to become first ladies during their husbands' terms as president. The first to do this was Abigail Adams, who was married to John Adams, who was the first vice president from 1789 to 1797 and then the second president from 1797 to 1801. Thus, Abigail was the first second lady and the second first lady. The most recent to do this is Jill Biden, who is ma\u001b[0m\n",
      "Thought:\u001b[32;1m\u001b[1;3mI need to calculate the age of the spouse of the president of France raised to the 0.43 power. I can use the Calculator tool for this.\n",
      "Action:\n",
      "```\n",
      "{\n",
      "  \"action\": \"Calculator\",\n",
      "  \"action_input\": \"((2021-1953)^0.43)\"\n",
      "}\n",
      "```\n",
      "\u001b[0m\n",
      "Observation: \u001b[33;1m\u001b[1;3mAnswer: 6.137320911007882\u001b[0m\n",
      "Thought:\u001b[32;1m\u001b[1;3mNow I can answer the question. \n",
      "Action:\n",
      "```\n",
      "{\n",
      "  \"action\": \"Final Answer\",\n",
      "  \"action_input\": \"Brigitte Macron's age raised to the 0.43 power is approximately 6.14.\"\n",
      "}\n",
      "```\n",
      "\u001b[0m\n",
      "\n",
      "\u001b[1m> Finished chain.\u001b[0m\n"
     ]
    },
    {
     "data": {
      "text/plain": [
       "\"Brigitte Macron's age raised to the 0.43 power is approximately 6.14.\""
      ]
     },
     "execution_count": 58,
     "metadata": {},
     "output_type": "execute_result"
    }
   ],
   "source": [
    "chatbot.respond(\"Who is the president of France married to? What is their age raised to the 0.43 power?\")"
   ]
  },
  {
   "cell_type": "markdown",
   "id": "0a2d1959",
   "metadata": {},
   "source": [
    "This amazing! The Agent is able to break down a complex task into smaller pieces and use the appropriate tool at each step, chaining together the output/input for successive steps. "
   ]
  }
 ],
 "metadata": {
  "kernelspec": {
   "display_name": "Python 3 (ipykernel)",
   "language": "python",
   "name": "python3"
  },
  "language_info": {
   "codemirror_mode": {
    "name": "ipython",
    "version": 3
   },
   "file_extension": ".py",
   "mimetype": "text/x-python",
   "name": "python",
   "nbconvert_exporter": "python",
   "pygments_lexer": "ipython3",
   "version": "3.9.13"
  }
 },
 "nbformat": 4,
 "nbformat_minor": 5
}
