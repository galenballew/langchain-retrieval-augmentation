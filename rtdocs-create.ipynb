{
 "cells": [
  {
   "cell_type": "code",
   "execution_count": 1,
   "metadata": {},
   "outputs": [
    {
     "name": "stdout",
     "output_type": "stream",
     "text": [
      "--2023-06-05 15:26:04--  https://www.cs.washington.edu/education/courses/\n",
      "Resolving www.cs.washington.edu (www.cs.washington.edu)... 34.215.139.216\n",
      "Connecting to www.cs.washington.edu (www.cs.washington.edu)|34.215.139.216|:443... connected.\n",
      "HTTP request sent, awaiting response... 200 OK\n",
      "Length: unspecified [text/html]\n",
      "Saving to: ‘rtdocs/index.html.1.tmp’\n",
      "\n",
      "index.html.1.tmp        [ <=>                ] 201.08K  --.-KB/s    in 0.04s   \n",
      "\n",
      "2023-06-05 15:26:05 (4.39 MB/s) - ‘rtdocs/index.html.1.tmp’ saved [205910]\n",
      "\n"
     ]
    }
   ],
   "source": [
    "!wget -A.html -P rtdocs https://www.cs.washington.edu/education/courses/"
   ]
  },
  {
   "cell_type": "code",
   "execution_count": 13,
   "metadata": {},
   "outputs": [],
   "source": [
    "from langchain.document_loaders import ReadTheDocsLoader\n",
    "from langchain.text_splitter import RecursiveCharacterTextSplitter\n",
    "\n",
    "loader = ReadTheDocsLoader('rtdocs', features='html.parser')\n",
    "raw_docs = loader.load()\n",
    "text_splitter = RecursiveCharacterTextSplitter(\n",
    "    chunk_size=4000,\n",
    "    chunk_overlap=50,\n",
    ")\n",
    "docs = text_splitter.split_documents(raw_docs)"
   ]
  },
  {
   "cell_type": "code",
   "execution_count": 11,
   "metadata": {},
   "outputs": [
    {
     "name": "stdout",
     "output_type": "stream",
     "text": [
      "48\n"
     ]
    }
   ],
   "source": [
    "print(len(docs))"
   ]
  },
  {
   "cell_type": "code",
   "execution_count": 12,
   "metadata": {},
   "outputs": [
    {
     "name": "stdout",
     "output_type": "stream",
     "text": [
      "page_content=\"Undergraduate - PMP - Graduate - Group Meetings - Graduate Seminars\\nSee also: UW Course Catalog \\nUndergraduate Courses\\nCSE 120: Computer Science Principles    \\n          Introduces fundamental concepts of computer science and computational thinking. Includes logical reasoning, problem solving, data representation, abstraction, the creation of “digital artifacts” such as Web pages and programs, managing complexity, operation of computers and networks, effective Web searching, ethical, legal and social aspects of information technology. \\nCSE 121: Introduction to Computer Programming I    \\n          Introduction to computer programming for students without previous programming experience. Students write programs to express algorithmic thinking and solve computational problems motivated by modern societal and scientific needs. Includes procedural programming constructs (methods), control structures (loops, conditionals), and standard data types, including arrays. Cannot be taken for credit if credit received for CSE 142. Recommended: completion of Paul G. Allen School's Guided Self-Placement. Offered: AWSpS. \\nCSE 122: Introduction to Computer Programming II    \\n          Computer programming for students with some previous programming experience. Emphasizes program design, style, and decomposition. Uses data structures (e.g., lists, dictionaries, sets) to solve computational problems motivated by modern societal and scientific needs. Introduces data abstraction and interface versus implementation. Cannot be taken for credit if credit received for CSE 143. Recommended: CSE 121 or completion of Paul G. Allen School's Guided Self-Placement. Offered: AWSpS. \\nCSE 123: Introduction to Computer Programming III    \\n          Computer programming for students with significant previous programming experience. Emphasizes implementation and run-time analysis of data structures and algorithms using techniques including linked references, recursion, and object-oriented inheritance to solve computational problems motivated by modern societal and scientific needs. Recommended: CSE 122 or completion of Paul G. Allen School's Guided Self-Placement. Offered: AWSpS. (Note: This course will be offered for the first time in Winter 2023). \\nCSE 131: Science and Art of Digital Photography    \\n          Covers the fundamentals of digital photography, including computational imaging; the elements of photographic composition and design; and the future of internet-enabled photography. \\nCSE 142: Computer Programming I    \\n          Basic programming-in-the-small abilities and concepts including procedural programming (methods, parameters, return, values), basic control structures (sequence, if/else, for loop, while loop), file processing, arrays, and an introduction to defining objects. Intended for students without prior programming experience.  \\nCSE 143: Computer Programming II    \\n          Continuation of CSE 142. Concepts of data abstraction and encapsulation including stacks, queues, linked lists, binary trees, recursion, instruction to complexity and use of predefined collection classes. Prerequisite: CSE 142.  \\nCSE 154: Web Programming    \\n          Covers languages, tools, and techniques for developing interactive and dynamic web pages. Topics include page styling, design, and layout; client and server side scripting; web security; and interacting with data sources such as databases. Prerequisite: minimum grade of 2.0 in either CSE 160, CSE 142, or CSE 143. \\nCSE 160: Data Programming    \\n          Introduction to computer programming. Assignments solve real data manipulation tasks from science, engineering, business, and the humanities. Concepts of computational thinking, problem-solving, data analysis, Python programming, control and data abstraction, file processing, and data visualization. Intended for students without prior programming experience. No credit if CSE 143 has been taken. (previously offered as CSE 140)\" metadata={'source': 'rtdocs/index.html.1.tmp'}\n"
     ]
    }
   ],
   "source": [
    "print(docs[0])"
   ]
  },
  {
   "cell_type": "code",
   "execution_count": 3,
   "metadata": {},
   "outputs": [],
   "source": [
    "from langchain.vectorstores import Chroma\n",
    "from langchain.embeddings.openai import OpenAIEmbeddings\n",
    "from keys import OPENAI_API_KEY\n",
    "\n",
    "embeddings = OpenAIEmbeddings(openai_api_key=OPENAI_API_KEY)"
   ]
  },
  {
   "cell_type": "code",
   "execution_count": 4,
   "metadata": {},
   "outputs": [
    {
     "name": "stderr",
     "output_type": "stream",
     "text": [
      "Using embedded DuckDB with persistence: data will be stored in: rtdocs-vectordb\n"
     ]
    }
   ],
   "source": [
    "vectordb = Chroma.from_documents(documents=docs,\n",
    "                                 embedding=embeddings,\n",
    "                                 persist_directory='rtdocs-vectordb')"
   ]
  },
  {
   "cell_type": "code",
   "execution_count": 5,
   "metadata": {},
   "outputs": [],
   "source": [
    "# persist to disk\n",
    "vectordb.persist()\n",
    "vectordb = None"
   ]
  }
 ],
 "metadata": {
  "kernelspec": {
   "display_name": "base",
   "language": "python",
   "name": "python3"
  },
  "language_info": {
   "codemirror_mode": {
    "name": "ipython",
    "version": 3
   },
   "file_extension": ".py",
   "mimetype": "text/x-python",
   "name": "python",
   "nbconvert_exporter": "python",
   "pygments_lexer": "ipython3",
   "version": "3.9.13"
  },
  "orig_nbformat": 4
 },
 "nbformat": 4,
 "nbformat_minor": 2
}
